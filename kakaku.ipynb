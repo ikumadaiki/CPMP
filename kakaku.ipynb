{
 "cells": [
  {
   "cell_type": "code",
   "execution_count": 1,
   "metadata": {},
   "outputs": [],
   "source": [
    "# gurobipyのインポート\n",
    "from gurobipy import *"
   ]
  },
  {
   "cell_type": "code",
   "execution_count": 2,
   "metadata": {},
   "outputs": [
    {
     "data": {
      "text/plain": [
       "[3, 4, 5]"
      ]
     },
     "execution_count": 2,
     "metadata": {},
     "output_type": "execute_result"
    }
   ],
   "source": [
    "S = [[1, 2], [3, 4, 5], [6], [7, 8]]"
   ]
  },
  {
   "cell_type": "code",
   "execution_count": null,
   "metadata": {},
   "outputs": [],
   "source": [
    "# 集合の定義\n",
    "I = [0, 1, 2, 3, 4, 5, 6, 7]\n",
    "J = [0, 1, 2, 3]\n",
    "S = [[1, 2], [3, 4, 5], [6], [7, 8]]\n",
    "\n",
    "# 定数の定義\n",
    "q = [2, 4, 5, 7]\n",
    "Delta = []\n",
    "\n",
    "m = Model(\"mip1\")\n",
    "\n",
    "for j in J:\n",
    "    m.addVar(vtype=\"C\", lb=0, name=\"z\" + str(j))\n",
    "\n",
    "for i in I:\n",
    "    m.addVar(vtype=\"C\", lb=0, name=\"mu\" + str(i))\n",
    "\n",
    "m.addVar(vtype=\"C\", lb=0, name=\"nu\")\n",
    "\n",
    "m.update()\n",
    "\n",
    "for j in J:\n",
    "    for s in S[j]:\n",
    "        m.addConstr(-q[j] * )\n",
    "\n",
    "m.addConstr(x1 + x2 + x3 + x4 + x5 + x6 + x7 + x8 + x9 + x10 == 1, \"c0\")\n",
    "m.addConstr(x1 + x2 + x3 + x4 + x5 == 1, \"c1\")\n",
    "m.addConstr(x1 + x2 + x3 + x6 + x7 == 1, \"c2\")\n",
    "m.addConstr(x1 + x2 + x4 + x6 + x8 == 1, \"c3\")\n",
    "m.addConstr(x1 + x3 + x4 + x7 + x8 == 1, \"c4\")\n",
    "\n",
    "\n",
    "# 目的関数を設定して\n",
    "m.setObjective(x1 + x2 + x3 + x4 + x5 + x6 + x7 + x8 + x9 + x10, GRB.MAXIMIZE)\n",
    "\n",
    "# 最適化して\n",
    "m.optimize()\n",
    "\n",
    "# 結果を表示\n",
    "print(\"Opt. Value=\", m.ObjVal)\n",
    "print(\"x1=\", x1.X)\n",
    "print(\"x2=\", x2.X)"
   ]
  }
 ],
 "metadata": {
  "kernelspec": {
   "display_name": "Python 3",
   "language": "python",
   "name": "python3"
  },
  "language_info": {
   "codemirror_mode": {
    "name": "ipython",
    "version": 3
   },
   "file_extension": ".py",
   "mimetype": "text/x-python",
   "name": "python",
   "nbconvert_exporter": "python",
   "pygments_lexer": "ipython3",
   "version": "3.9.13"
  },
  "orig_nbformat": 4
 },
 "nbformat": 4,
 "nbformat_minor": 2
}
