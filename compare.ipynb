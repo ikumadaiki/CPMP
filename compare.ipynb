{
 "cells": [
  {
   "cell_type": "code",
   "execution_count": 1,
   "metadata": {},
   "outputs": [],
   "source": [
    "from gurobipy import *"
   ]
  },
  {
   "cell_type": "markdown",
   "metadata": {},
   "source": [
    "## 本研究"
   ]
  },
  {
   "cell_type": "code",
   "execution_count": 66,
   "metadata": {},
   "outputs": [
    {
     "data": {
      "text/plain": [
       "6"
      ]
     },
     "execution_count": 66,
     "metadata": {},
     "output_type": "execute_result"
    }
   ],
   "source": [
    "# nと初期配置を変更しなければいけない\n",
    "ship_num=4\n",
    "stack_num=4\n",
    "height=4\n",
    "# time = 10\n",
    "f=stack_num*height-sum(n)\n",
    "\n",
    "O1=[i+1 for i in range(ship_num)]\n",
    "\n",
    "S=[i+1 for i in range(stack_num)]\n",
    "H=[i+1 for i in range(height)]\n",
    "P=[i+1 for i in range(ship_num)]\n",
    "\n",
    "n=[1,2,4,3]\n",
    "# T=[i+1 for i in range(time)]\n",
    "\n",
    "# S,H,P,T,n1,O"
   ]
  },
  {
   "cell_type": "code",
   "execution_count": 52,
   "metadata": {},
   "outputs": [
    {
     "name": "stderr",
     "output_type": "stream",
     "text": [
      "C:\\Users\\Owner\\AppData\\Local\\Temp\\ipykernel_10120\\239299481.py:22: RuntimeWarning: covariance is not positive-semidefinite.\n",
      "  data_1 = np.random.multivariate_normal(mean, cov, size=size)\n"
     ]
    }
   ],
   "source": [
    "from asyncio.constants import SENDFILE_FALLBACK_READBUFFER_SIZE\n",
    "import random\n",
    "from random import seed\n",
    "import numpy as np\n",
    "from scipy.stats import multivariate_normal\n",
    "\n",
    "np.random.seed(0)\n",
    "\n",
    "# 期待値と分散共分散行列の準備\n",
    "mean = np.arange(1,2*ship_num,2)\n",
    "cov=np.zeros((ship_num,ship_num))\n",
    "for i in range(ship_num):\n",
    "  for j in range(ship_num):\n",
    "    if i==j:\n",
    "      cov[i][i]=4*np.random.randn()\n",
    "    elif i>j:\n",
    "      cov[i][j]=np.random.randn()\n",
    "      cov[j][i]=cov[i][j]\n",
    "\n",
    "# numpy を用いた生成\n",
    "size=10\n",
    "data_1 = np.random.multivariate_normal(mean, cov, size=size)\n",
    "\n",
    "# print(data_1.shape)\n",
    "\n",
    "# print(np.mean(data_1, axis=0))\n",
    "\n",
    "# print(np.cov(data_1, rowvar=False))\n",
    "\n",
    "# print(data_1)\n",
    "O_=np.argsort(data_1)\n",
    "O_=O_+np.ones((size,ship_num)).astype(int)\n",
    "O=O_.tolist()\n",
    "\n",
    "# data_2 = multivariate_normal(mean, cov).rvs(size=200)\n",
    "\n",
    "# print(data_2.shape)\n",
    "\n",
    "# print(np.mean(data_2, axis=0))\n",
    "\n",
    "# print(np.cov(data_2, rowvar=False))"
   ]
  },
  {
   "cell_type": "code",
   "execution_count": 53,
   "metadata": {},
   "outputs": [
    {
     "data": {
      "text/plain": [
       "{(1, 3, 2, 4): 3,\n",
       " (2, 1, 3, 4): 2,\n",
       " (1, 4, 2, 3): 1,\n",
       " (1, 2, 3, 4): 1,\n",
       " (1, 4, 3, 2): 1,\n",
       " (3, 2, 1, 4): 1,\n",
       " (2, 3, 1, 4): 1}"
      ]
     },
     "execution_count": 53,
     "metadata": {},
     "output_type": "execute_result"
    }
   ],
   "source": [
    "a=[]\n",
    "b={}\n",
    "for i in O:\n",
    "  # print(i)\n",
    "  if not i in a:\n",
    "    a.append(i)\n",
    "for j in a:\n",
    "  b[tuple(j)]=O.count(j)\n",
    "\n",
    "b"
   ]
  },
  {
   "cell_type": "code",
   "execution_count": 54,
   "metadata": {},
   "outputs": [],
   "source": [
    "m=Model(\"IPS6\")\n",
    "\n",
    "alpha=m.addVar(vtype=\"C\")\n",
    "\n",
    "# 変数の定義\n",
    "x,c,d={},{},{}\n",
    "for s in S:\n",
    "  for h in H:\n",
    "    for p in P:\n",
    "      # for t in T:\n",
    "      x[s,h,p]=m.addVar(vtype=\"B\")\n",
    "\n",
    "\n",
    "# for s in S:\n",
    "#   for h in H:\n",
    "#     for p in P:\n",
    "#       for t in T:\n",
    "#         w[s,h,p,t]=m.addVar(vtype=\"C\",lb=0)\n",
    "#         z[s,h,p,t]=m.addVar(vtype=\"C\",lb=0)\n",
    "\n",
    "\n",
    "for s in S:\n",
    "  for h in range(2,len(H)+1):\n",
    "    for i,o in enumerate(O):\n",
    "      c[s,h,i]=m.addVar(vtype=\"c\",lb=0)\n",
    "\n",
    "for i in range(len(O)):\n",
    "  d[i]=m.addVar(vtype=\"C\",lb=0)\n",
    "\n",
    "# 制約条件\n",
    "# for p in P:\n",
    "#    for t in range(1,len(T)):\n",
    "#       m.addConstr(quicksum(w[s,h,p,t] for s in S for h in H)==quicksum(z[s,h,p,t] for s in S for h in H))\n",
    "\n",
    "# for t in range(1,len(T)):\n",
    "#    m.addConstr(quicksum(w[s,h,p,t] for s in S for h in H for p in P)<=1)\n",
    "#    m.addConstr(quicksum(z[s,h,p,t] for s in S for h in H for p in P)<=1)\n",
    "\n",
    "# for t in range(1,len(T)-1):\n",
    "#   m.addConstr(quicksum(w[s,h,p,t+1] for s in S for h in H for p in P)<=quicksum(w[s,h,p,t] for s in S for h in H for p in P))\n",
    "\n",
    "for p in P:\n",
    "  m.addConstr(quicksum(x[s,h,p] for s in S for h in H)==n[p-1])\n",
    "\n",
    "for s in S:\n",
    "  for h in H:\n",
    "    m.addConstr(quicksum(x[s,h,p] for p in P)<=1)\n",
    "\n",
    "for s in S:\n",
    "  for h in range(1,len(H)):\n",
    "    m.addConstr(quicksum(x[s,h+1,p] for p in P)<=quicksum(x[s,h,p] for p in P))\n",
    "\n",
    "# for s in S:\n",
    "#   for h in H:\n",
    "#     for p in P:\n",
    "#       for t in range(1,len(T)):\n",
    "#         m.addConstr(x[s,h,p,t]+z[s,h,p,t]==x[s,h,p,t+1]+w[s,h,p,t])\n",
    "\n",
    "# for s in S:\n",
    "#   for h in range(1,len(H)):\n",
    "#     for t in range(1,len(T)):\n",
    "#       m.addConstr(quicksum(x[s,h,p,t] for p in P)+quicksum(x[s,h+1,p,t] for p in P)+quicksum(w[s,h,p,t] for p in P)+quicksum(z[s,h+1,p,t] for p in P)+quicksum(z[s,h,p,t] for p in P)<=2)\n",
    "\n",
    "# for s in S:\n",
    "#   for t in range(1,len(T)-1):\n",
    "#     m.addConstr(quicksum(z[s,h,p,t] for h in H for p in P)+quicksum(w[s,h,p,t+1] for h in H for p in P)<=1)\n",
    "\n",
    "# for s in S:\n",
    "#   for p in P:\n",
    "#     for t in range(1,len(T)-1):\n",
    "#       m.addConstr(quicksum(w[s,h,p,t] for h in H)+quicksum(z[s,h,p,t+1] for h in H)<=1)\n",
    "\n",
    "# for s in S:\n",
    "#   for h in range(1,len(H)):\n",
    "#     for p in P:\n",
    "#       m.addConstr(quicksum(x[s,h+1,k,len(T)] for k in range(p,len(P)+1))<=quicksum(x[s,h,k,len(T)] for k in range(p,len(P)+1)))\n",
    "\n",
    "# for s in S:\n",
    "#   for h in H:\n",
    "#     m.addConstr(w[s,h,1,len(T)-1]==0)\n",
    "\n",
    "# for s in S:\n",
    "#   for p in range(2,len(P)+1):\n",
    "#     m.addConstr(w[s,1,p,len(T)-1]==0)\n",
    "\n",
    "# for s in S:\n",
    "#   for h in H:\n",
    "#     for p in P:\n",
    "#       m.addConstr(z[s,h,p,len(T)]==0)\n",
    "#       m.addConstr(w[s,h,p,len(T)]==0)\n",
    "\n",
    "for s in S:\n",
    "  for h in range(2,len(H)+1):\n",
    "    for h_ in range(1,h):\n",
    "      for i,o in enumerate(O):\n",
    "        for j,p in enumerate(o):\n",
    "          m.addConstr(c[s,h,i]>=quicksum(x[s,h,k] for k in o[j:])-quicksum(x[s,h_,k] for k in o[j:]))\n",
    "\n",
    "for i in range(len(O)):\n",
    "  m.addConstr(d[i]>=quicksum(c[s,h,i] for s in S for h in H if h!=1)-alpha)"
   ]
  },
  {
   "cell_type": "code",
   "execution_count": 56,
   "metadata": {},
   "outputs": [],
   "source": [
    "beta=0.8\n",
    "# m.setObjective(alpha+10**(-5)*quicksum(y[s,k,t] for s in S for k in S if s!=k for t in range(1,len(T)))+quicksum(w[i] for i in range(len(O)))/((1-beta)*len(O)))\n",
    "m.setObjective(alpha+quicksum(d[i] for i in range(len(O)))/((1-beta)*len(O)))"
   ]
  },
  {
   "cell_type": "code",
   "execution_count": 57,
   "metadata": {},
   "outputs": [
    {
     "name": "stdout",
     "output_type": "stream",
     "text": [
      "Gurobi Optimizer version 9.5.2 build v9.5.2rc0 (win64)\n",
      "Thread count: 8 physical cores, 16 logical processors, using up to 16 threads\n",
      "Optimize a model with 1002 rows, 195 columns and 6124 nonzeros\n",
      "Model fingerprint: 0xd3f8491e\n",
      "Variable types: 131 continuous, 64 integer (64 binary)\n",
      "Coefficient statistics:\n",
      "  Matrix range     [1e+00, 1e+00]\n",
      "  Objective range  [5e-01, 1e+00]\n",
      "  Bounds range     [1e+00, 1e+00]\n",
      "  RHS range        [1e+00, 4e+00]\n",
      "Found heuristic solution: objective 0.0000000\n",
      "\n",
      "Explored 0 nodes (0 simplex iterations) in 0.00 seconds (0.00 work units)\n",
      "Thread count was 1 (of 16 available processors)\n",
      "\n",
      "Solution count 1: 0 \n",
      "\n",
      "Optimal solution found (tolerance 1.00e-04)\n",
      "Best objective 0.000000000000e+00, best bound 0.000000000000e+00, gap 0.0000%\n"
     ]
    }
   ],
   "source": [
    "if f>=height:\n",
    "    m.optimize()"
   ]
  },
  {
   "cell_type": "code",
   "execution_count": 61,
   "metadata": {},
   "outputs": [
    {
     "name": "stdout",
     "output_type": "stream",
     "text": [
      "[[0 0 0 3]\n",
      " [1 0 0 3]\n",
      " [4 0 2 3]\n",
      " [4 4 2 3]]\n",
      "the objective function 0.0\n",
      "VaR= 0.0\n"
     ]
    }
   ],
   "source": [
    "EPS=1.e-6\n",
    "\n",
    "if m.Status == GRB.OPTIMAL:\n",
    "  # for (s,h,p,t) in x:\n",
    "  #   if t==len(T):\n",
    "  #     if x[s,h,p,t].X>EPS:\n",
    "  #       print(\"x[%2s,%2s,%2s,%2s]=%3s\" %(s,h,p,t,x[s,h,p,t].X)\n",
    "\n",
    "  for (s,h,i) in c:\n",
    "    if c[s,h,i].X>EPS:\n",
    "      print(\"c[%2s,%2s,%2s]=%3s  %4s\" %(s,h,i,c[s,h,i].X,O[i]))\n",
    "\n",
    "  result=np.zeros((stack_num,height))\n",
    "  for (s,h,p) in x:\n",
    "      if x[s,h,p].X>EPS:\n",
    "          result[height-h][s-1]=int(p)\n",
    "  result=result.astype(int)\n",
    "  print(result)\n",
    "  print(\"the objective function\", m.objVal)\n",
    "  print(\"VaR=\",alpha.X)"
   ]
  },
  {
   "cell_type": "code",
   "execution_count": 59,
   "metadata": {},
   "outputs": [
    {
     "name": "stdout",
     "output_type": "stream",
     "text": [
      "[[0 0 0 3]\n",
      " [1 0 0 3]\n",
      " [4 0 2 3]\n",
      " [4 4 2 3]]\n"
     ]
    }
   ],
   "source": [
    "result=np.zeros((stack_num,height))\n",
    "for (s,h,p) in x:\n",
    "    if x[s,h,p].X>EPS:\n",
    "        result[height-h][s-1]=int(p)\n",
    "result=result.astype(int)\n",
    "print(result)"
   ]
  },
  {
   "cell_type": "markdown",
   "metadata": {},
   "source": [
    "## 先行研究１"
   ]
  },
  {
   "cell_type": "code",
   "execution_count": 40,
   "metadata": {},
   "outputs": [],
   "source": [
    "# nと初期配置を変更しなければいけない\n",
    "ship_num=4\n",
    "stack_num=4\n",
    "height=4\n",
    "num=10\n",
    "# time = 10\n",
    "\n",
    "O1=[i+1 for i in range(ship_num)]\n",
    "\n",
    "Q=[i+1 for i in range(stack_num)]\n",
    "L=[i+1 for i in range(height)]\n",
    "P=[i+1 for i in range(ship_num)]\n",
    "I=[i+1 for i in range(num)]\n",
    "f=stack_num*height-len(I)\n",
    "gamma=[1,2,2,3,3,3,3,4,4,4]\n",
    "Gamma=3\n",
    "\n",
    "# T=[i+1 for i in range(time)]\n",
    "\n",
    "# S,H,P,T,n1,O"
   ]
  },
  {
   "cell_type": "code",
   "execution_count": 41,
   "metadata": {},
   "outputs": [],
   "source": [
    "m=Model(\"BI\")\n",
    "\n",
    "# 変数の定義\n",
    "alpha,beta={},{}\n",
    "for i in I:\n",
    "  for q in Q:\n",
    "      alpha[i,q]=m.addVar(vtype=\"B\")\n",
    "      beta[i,q]=m.addVar(vtype=\"B\")\n",
    "J=[]\n",
    "for i in I:\n",
    "  J.append([])\n",
    "  for j in I:\n",
    "    if gamma[i-1]<gamma[j-1]:\n",
    "      if gamma[j-1]-gamma[i-1]<=Gamma:\n",
    "        J[i-1].append(j)\n",
    "\n",
    "for q in Q:\n",
    "  m.addConstr(quicksum((alpha[i,q]+beta[i,q]) for i in I)<=len(L))\n",
    "\n",
    "for i in I:\n",
    "  m.addConstr(quicksum((alpha[i,q]+beta[i,q]) for q in Q)==1)\n",
    "\n",
    "for i in I:\n",
    "  for j in J[i-1]:\n",
    "    for q in Q:\n",
    "      m.addConstr(alpha[i,q]+alpha[j,q]+beta[i,q]<=1)\n",
    "\n",
    "m.setObjective(quicksum(beta[i,q] for i in I for q in Q))"
   ]
  },
  {
   "cell_type": "code",
   "execution_count": 42,
   "metadata": {},
   "outputs": [
    {
     "name": "stdout",
     "output_type": "stream",
     "text": [
      "Gurobi Optimizer version 9.5.1 build v9.5.1rc2 (win64)\n",
      "Thread count: 4 physical cores, 8 logical processors, using up to 8 threads\n",
      "Optimize a model with 154 rows, 80 columns and 580 nonzeros\n",
      "Model fingerprint: 0x35619123\n",
      "Variable types: 0 continuous, 80 integer (80 binary)\n",
      "Coefficient statistics:\n",
      "  Matrix range     [1e+00, 1e+00]\n",
      "  Objective range  [1e+00, 1e+00]\n",
      "  Bounds range     [1e+00, 1e+00]\n",
      "  RHS range        [1e+00, 4e+00]\n",
      "Found heuristic solution: objective 7.0000000\n",
      "Presolve removed 28 rows and 4 columns\n",
      "Presolve time: 0.01s\n",
      "Presolved: 126 rows, 76 columns, 552 nonzeros\n",
      "Variable types: 0 continuous, 76 integer (76 binary)\n",
      "Found heuristic solution: objective 3.0000000\n",
      "\n",
      "Root relaxation: objective 0.000000e+00, 33 iterations, 0.00 seconds (0.00 work units)\n",
      "\n",
      "    Nodes    |    Current Node    |     Objective Bounds      |     Work\n",
      " Expl Unexpl |  Obj  Depth IntInf | Incumbent    BestBd   Gap | It/Node Time\n",
      "\n",
      "*    0     0               0       0.0000000    0.00000  0.00%     -    0s\n",
      "\n",
      "Explored 1 nodes (33 simplex iterations) in 0.07 seconds (0.00 work units)\n",
      "Thread count was 8 (of 8 available processors)\n",
      "\n",
      "Solution count 3: 0 3 7 \n",
      "\n",
      "Optimal solution found (tolerance 1.00e-04)\n",
      "Best objective 0.000000000000e+00, best bound 0.000000000000e+00, gap 0.0000%\n"
     ]
    }
   ],
   "source": [
    "if f>=height:\n",
    "    m.optimize()"
   ]
  },
  {
   "cell_type": "code",
   "execution_count": 43,
   "metadata": {},
   "outputs": [
    {
     "name": "stdout",
     "output_type": "stream",
     "text": [
      "[[3 0 0 0]\n",
      " [3 0 4 0]\n",
      " [3 2 4 0]\n",
      " [3 2 4 1]]\n",
      "the objective function 0.0\n"
     ]
    }
   ],
   "source": [
    "import numpy as np\n",
    "EPS=1.e-6\n",
    "\n",
    "if m.Status == GRB.OPTIMAL:\n",
    "  # for (s,h,p,t) in x:\n",
    "  #   if t==len(T):\n",
    "  #     if x[s,h,p,t].X>EPS:\n",
    "  #       print(\"x[%2s,%2s,%2s,%2s]=%3s\" %(s,h,p,t,x[s,h,p,t].X)\n",
    "\n",
    "  for (i,q) in beta:\n",
    "    if beta[i,q].X>EPS:\n",
    "      print(\"beta[%2s,%2s]=%3s\" %(i,q,beta[i,q].X))\n",
    "\n",
    "  EPS=1.e-6\n",
    "  a=[]\n",
    "  for q in Q:\n",
    "      a.append([])\n",
    "  for (i,q) in alpha:\n",
    "      if alpha[i,q].X>EPS:\n",
    "          a[q-1].append(gamma[i-1])\n",
    "  \n",
    "  for (i,q) in beta:\n",
    "      if beta[i,q].X>EPS:\n",
    "          a[q-1].append(gamma[i-1])\n",
    "\n",
    "  for q in Q:\n",
    "      a[q-1]=sorted(a[q-1],reverse=True)\n",
    "\n",
    "  result=np.zeros((stack_num,height))\n",
    "  for q in Q:\n",
    "    for i,r in enumerate(a[q-1]):\n",
    "      result[height-i-1][q-1]=r\n",
    "      # print(i,r)\n",
    "\n",
    "  result=result.astype(int)\n",
    "  print(result)\n",
    "  print(\"the objective function\", m.objVal)\n",
    "#   print(\"VaR=\",alpha.X)"
   ]
  },
  {
   "cell_type": "code",
   "execution_count": 133,
   "metadata": {},
   "outputs": [
    {
     "data": {
      "text/plain": [
       "[[], [], [], []]"
      ]
     },
     "execution_count": 133,
     "metadata": {},
     "output_type": "execute_result"
    }
   ],
   "source": [
    "a=[]\n",
    "for q in Q:\n",
    "    a.append([])\n",
    "a"
   ]
  }
 ],
 "metadata": {
  "kernelspec": {
   "display_name": "Python 3.9.13 64-bit (microsoft store)",
   "language": "python",
   "name": "python3"
  },
  "language_info": {
   "codemirror_mode": {
    "name": "ipython",
    "version": 3
   },
   "file_extension": ".py",
   "mimetype": "text/x-python",
   "name": "python",
   "nbconvert_exporter": "python",
   "pygments_lexer": "ipython3",
   "version": "3.9.13"
  },
  "orig_nbformat": 4,
  "vscode": {
   "interpreter": {
    "hash": "0bc652a6662848c169ddaad7e75fc7966486f1f662e7670e7ffb2b305ef6abae"
   }
  }
 },
 "nbformat": 4,
 "nbformat_minor": 2
}
