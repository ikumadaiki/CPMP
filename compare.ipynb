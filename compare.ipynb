{
 "cells": [
  {
   "cell_type": "code",
   "execution_count": 1,
   "metadata": {},
   "outputs": [],
   "source": [
    "from gurobipy import *"
   ]
  },
  {
   "cell_type": "markdown",
   "metadata": {},
   "source": [
    "## 本研究"
   ]
  },
  {
   "cell_type": "code",
   "execution_count": 3,
   "metadata": {},
   "outputs": [],
   "source": [
    "ship_num=4\n",
    "stack_num=4\n",
    "height=4\n",
    "\n",
    "O1=[i+1 for i in range(ship_num)]\n",
    "\n",
    "S=[i+1 for i in range(stack_num)]\n",
    "H=[i+1 for i in range(height)]\n",
    "P=[i+1 for i in range(ship_num)]\n",
    "\n",
    "n=[1,2,4,3]\n",
    "f=stack_num*height-sum(n)"
   ]
  },
  {
   "cell_type": "code",
   "execution_count": 4,
   "metadata": {},
   "outputs": [
    {
     "name": "stderr",
     "output_type": "stream",
     "text": [
      "C:\\Users\\daiki\\AppData\\Local\\Temp\\ipykernel_632\\170607912.py:22: RuntimeWarning: covariance is not positive-semidefinite.\n",
      "  data_1 = np.random.multivariate_normal(mean, cov, size=size)\n"
     ]
    },
    {
     "data": {
      "text/plain": [
       "{(1, 3, 2, 4): 3,\n",
       " (2, 1, 3, 4): 2,\n",
       " (1, 4, 2, 3): 1,\n",
       " (1, 2, 3, 4): 1,\n",
       " (1, 4, 3, 2): 1,\n",
       " (3, 2, 1, 4): 1,\n",
       " (2, 3, 1, 4): 1}"
      ]
     },
     "execution_count": 4,
     "metadata": {},
     "output_type": "execute_result"
    }
   ],
   "source": [
    "from asyncio.constants import SENDFILE_FALLBACK_READBUFFER_SIZE\n",
    "import random\n",
    "from random import seed\n",
    "import numpy as np\n",
    "from scipy.stats import multivariate_normal\n",
    "\n",
    "np.random.seed(0)\n",
    "\n",
    "# 期待値と分散共分散行列の準備\n",
    "mean = np.arange(1,2*ship_num,2)\n",
    "cov=np.zeros((ship_num,ship_num))\n",
    "for i in range(ship_num):\n",
    "  for j in range(ship_num):\n",
    "    if i==j:\n",
    "      cov[i][i]=4*np.random.randn()\n",
    "    elif i>j:\n",
    "      cov[i][j]=np.random.randn()\n",
    "      cov[j][i]=cov[i][j]\n",
    "\n",
    "# numpy を用いた生成\n",
    "size=10\n",
    "data_1 = np.random.multivariate_normal(mean, cov, size=size)\n",
    "\n",
    "# print(data_1.shape)\n",
    "\n",
    "# print(np.mean(data_1, axis=0))\n",
    "\n",
    "# print(np.cov(data_1, rowvar=False))\n",
    "\n",
    "# print(data_1)\n",
    "O_=np.argsort(data_1)\n",
    "O_=O_+np.ones((size,ship_num)).astype(int)\n",
    "O=O_.tolist()\n",
    "\n",
    "# data_2 = multivariate_normal(mean, cov).rvs(size=200)\n",
    "\n",
    "# print(data_2.shape)\n",
    "\n",
    "# print(np.mean(data_2, axis=0))\n",
    "\n",
    "# print(np.cov(data_2, rowvar=False))\n",
    "\n",
    "a=[]\n",
    "b={}\n",
    "for i in O:\n",
    "  # print(i)\n",
    "  if not i in a:\n",
    "    a.append(i)\n",
    "for j in a:\n",
    "  b[tuple(j)]=O.count(j)\n",
    "\n",
    "b"
   ]
  },
  {
   "cell_type": "code",
   "execution_count": 5,
   "metadata": {},
   "outputs": [
    {
     "name": "stdout",
     "output_type": "stream",
     "text": [
      "Set parameter Username\n",
      "Academic license - for non-commercial use only - expires 2023-09-30\n"
     ]
    }
   ],
   "source": [
    "m=Model(\"IPS6\")\n",
    "\n",
    "alpha=m.addVar(vtype=\"C\")\n",
    "\n",
    "# 変数の定義\n",
    "x,c,d={},{},{}\n",
    "for s in S:\n",
    "  for h in H:\n",
    "    for p in P:\n",
    "      x[s,h,p]=m.addVar(vtype=\"B\")\n",
    "\n",
    "for s in S:\n",
    "  for h in range(2,len(H)+1):\n",
    "    for i,o in enumerate(O):\n",
    "      c[s,h,i]=m.addVar(vtype=\"c\",lb=0)\n",
    "\n",
    "for i in range(len(O)):\n",
    "  d[i]=m.addVar(vtype=\"C\",lb=0)\n",
    "\n",
    "for p in P:\n",
    "  m.addConstr(quicksum(x[s,h,p] for s in S for h in H)==n[p-1])\n",
    "\n",
    "for s in S:\n",
    "  for h in H:\n",
    "    m.addConstr(quicksum(x[s,h,p] for p in P)<=1)\n",
    "\n",
    "for s in S:\n",
    "  for h in range(1,len(H)):\n",
    "    m.addConstr(quicksum(x[s,h+1,p] for p in P)<=quicksum(x[s,h,p] for p in P))\n",
    "\n",
    "for s in S:\n",
    "  for h in range(2,len(H)+1):\n",
    "    for h_ in range(1,h):\n",
    "      for i,o in enumerate(O):\n",
    "        for j,p in enumerate(o):\n",
    "          m.addConstr(c[s,h,i]>=quicksum(x[s,h,k] for k in o[j:])-quicksum(x[s,h_,k] for k in o[j:]))\n",
    "\n",
    "for i in range(len(O)):\n",
    "  m.addConstr(d[i]>=quicksum(c[s,h,i] for s in S for h in H if h!=1)-alpha)"
   ]
  },
  {
   "cell_type": "code",
   "execution_count": 6,
   "metadata": {},
   "outputs": [],
   "source": [
    "beta=0.8\n",
    "m.setObjective(alpha+quicksum(d[i] for i in range(len(O)))/((1-beta)*len(O)))"
   ]
  },
  {
   "cell_type": "code",
   "execution_count": 7,
   "metadata": {},
   "outputs": [
    {
     "name": "stdout",
     "output_type": "stream",
     "text": [
      "Gurobi Optimizer version 9.5.1 build v9.5.1rc2 (win64)\n",
      "Thread count: 4 physical cores, 8 logical processors, using up to 8 threads\n",
      "Optimize a model with 1002 rows, 195 columns and 6124 nonzeros\n",
      "Model fingerprint: 0xd3f8491e\n",
      "Variable types: 131 continuous, 64 integer (64 binary)\n",
      "Coefficient statistics:\n",
      "  Matrix range     [1e+00, 1e+00]\n",
      "  Objective range  [5e-01, 1e+00]\n",
      "  Bounds range     [1e+00, 1e+00]\n",
      "  RHS range        [1e+00, 4e+00]\n",
      "Found heuristic solution: objective 0.0000000\n",
      "\n",
      "Explored 0 nodes (0 simplex iterations) in 0.04 seconds (0.00 work units)\n",
      "Thread count was 1 (of 8 available processors)\n",
      "\n",
      "Solution count 1: 0 \n",
      "\n",
      "Optimal solution found (tolerance 1.00e-04)\n",
      "Best objective 0.000000000000e+00, best bound 0.000000000000e+00, gap 0.0000%\n"
     ]
    }
   ],
   "source": [
    "if f>=height:\n",
    "    m.optimize()"
   ]
  },
  {
   "cell_type": "code",
   "execution_count": 8,
   "metadata": {},
   "outputs": [
    {
     "name": "stdout",
     "output_type": "stream",
     "text": [
      "[[0 0 0 3]\n",
      " [1 0 0 3]\n",
      " [4 0 2 3]\n",
      " [4 4 2 3]]\n",
      "the objective function 0.0\n",
      "VaR= 0.0\n"
     ]
    }
   ],
   "source": [
    "EPS=1.e-6\n",
    "\n",
    "if m.Status == GRB.OPTIMAL:\n",
    "  # for (s,h,p,t) in x:\n",
    "  #   if t==len(T):\n",
    "  #     if x[s,h,p,t].X>EPS:\n",
    "  #       print(\"x[%2s,%2s,%2s,%2s]=%3s\" %(s,h,p,t,x[s,h,p,t].X)\n",
    "\n",
    "  for (s,h,i) in c:\n",
    "    if c[s,h,i].X>EPS:\n",
    "      print(\"c[%2s,%2s,%2s]=%3s  %4s\" %(s,h,i,c[s,h,i].X,O[i]))\n",
    "\n",
    "  result=np.zeros((stack_num,height))\n",
    "  for (s,h,p) in x:\n",
    "      if x[s,h,p].X>EPS:\n",
    "          result[height-h][s-1]=int(p)\n",
    "  result=result.astype(int)\n",
    "  print(result)\n",
    "  print(\"the objective function\", m.objVal)\n",
    "  print(\"VaR=\",alpha.X)"
   ]
  },
  {
   "cell_type": "markdown",
   "metadata": {},
   "source": [
    "## 先行研究１"
   ]
  },
  {
   "cell_type": "code",
   "execution_count": 9,
   "metadata": {},
   "outputs": [],
   "source": [
    "# nと初期配置を変更しなければいけない\n",
    "ship_num=4\n",
    "stack_num=4\n",
    "height=4\n",
    "num=10\n",
    "\n",
    "O1=[i+1 for i in range(ship_num)]\n",
    "\n",
    "Q=[i+1 for i in range(stack_num)]\n",
    "L=[i+1 for i in range(height)]\n",
    "P=[i+1 for i in range(ship_num)]\n",
    "I=[i+1 for i in range(num)]\n",
    "f=stack_num*height-len(I)\n",
    "gamma=[1,2,2,3,3,3,3,4,4,4]\n",
    "Gamma=3"
   ]
  },
  {
   "cell_type": "code",
   "execution_count": 10,
   "metadata": {},
   "outputs": [],
   "source": [
    "m=Model(\"BI\")\n",
    "\n",
    "# 変数の定義\n",
    "alpha,beta={},{}\n",
    "for i in I:\n",
    "  for q in Q:\n",
    "      alpha[i,q]=m.addVar(vtype=\"B\")\n",
    "      beta[i,q]=m.addVar(vtype=\"B\")\n",
    "J=[]\n",
    "for i in I:\n",
    "  J.append([])\n",
    "  for j in I:\n",
    "    if gamma[i-1]<gamma[j-1]:\n",
    "      if gamma[j-1]-gamma[i-1]<=Gamma:\n",
    "        J[i-1].append(j)\n",
    "\n",
    "for q in Q:\n",
    "  m.addConstr(quicksum((alpha[i,q]+beta[i,q]) for i in I)<=len(L))\n",
    "\n",
    "for i in I:\n",
    "  m.addConstr(quicksum((alpha[i,q]+beta[i,q]) for q in Q)==1)\n",
    "\n",
    "for i in I:\n",
    "  for j in J[i-1]:\n",
    "    for q in Q:\n",
    "      m.addConstr(alpha[i,q]+alpha[j,q]+beta[i,q]<=1)\n",
    "\n",
    "m.setObjective(quicksum(beta[i,q] for i in I for q in Q))"
   ]
  },
  {
   "cell_type": "code",
   "execution_count": 11,
   "metadata": {},
   "outputs": [
    {
     "name": "stdout",
     "output_type": "stream",
     "text": [
      "Gurobi Optimizer version 9.5.1 build v9.5.1rc2 (win64)\n",
      "Thread count: 4 physical cores, 8 logical processors, using up to 8 threads\n",
      "Optimize a model with 154 rows, 80 columns and 580 nonzeros\n",
      "Model fingerprint: 0x35619123\n",
      "Variable types: 0 continuous, 80 integer (80 binary)\n",
      "Coefficient statistics:\n",
      "  Matrix range     [1e+00, 1e+00]\n",
      "  Objective range  [1e+00, 1e+00]\n",
      "  Bounds range     [1e+00, 1e+00]\n",
      "  RHS range        [1e+00, 4e+00]\n",
      "Found heuristic solution: objective 7.0000000\n",
      "Presolve removed 28 rows and 4 columns\n",
      "Presolve time: 0.01s\n",
      "Presolved: 126 rows, 76 columns, 552 nonzeros\n",
      "Variable types: 0 continuous, 76 integer (76 binary)\n",
      "Found heuristic solution: objective 3.0000000\n",
      "\n",
      "Root relaxation: objective 0.000000e+00, 33 iterations, 0.00 seconds (0.00 work units)\n",
      "\n",
      "    Nodes    |    Current Node    |     Objective Bounds      |     Work\n",
      " Expl Unexpl |  Obj  Depth IntInf | Incumbent    BestBd   Gap | It/Node Time\n",
      "\n",
      "*    0     0               0       0.0000000    0.00000  0.00%     -    0s\n",
      "\n",
      "Explored 1 nodes (33 simplex iterations) in 0.05 seconds (0.00 work units)\n",
      "Thread count was 8 (of 8 available processors)\n",
      "\n",
      "Solution count 3: 0 3 7 \n",
      "\n",
      "Optimal solution found (tolerance 1.00e-04)\n",
      "Best objective 0.000000000000e+00, best bound 0.000000000000e+00, gap 0.0000%\n"
     ]
    }
   ],
   "source": [
    "if f>=height:\n",
    "    m.optimize()"
   ]
  },
  {
   "cell_type": "code",
   "execution_count": 12,
   "metadata": {},
   "outputs": [
    {
     "name": "stdout",
     "output_type": "stream",
     "text": [
      "[[3 0 0 0]\n",
      " [3 0 4 0]\n",
      " [3 2 4 0]\n",
      " [3 2 4 1]]\n",
      "the objective function 0.0\n"
     ]
    }
   ],
   "source": [
    "import numpy as np\n",
    "EPS=1.e-6\n",
    "\n",
    "if m.Status == GRB.OPTIMAL:\n",
    "  # for (s,h,p,t) in x:\n",
    "  #   if t==len(T):\n",
    "  #     if x[s,h,p,t].X>EPS:\n",
    "  #       print(\"x[%2s,%2s,%2s,%2s]=%3s\" %(s,h,p,t,x[s,h,p,t].X)\n",
    "\n",
    "  for (i,q) in beta:\n",
    "    if beta[i,q].X>EPS:\n",
    "      print(\"beta[%2s,%2s]=%3s\" %(i,q,beta[i,q].X))\n",
    "\n",
    "  EPS=1.e-6\n",
    "  a=[]\n",
    "  for q in Q:\n",
    "      a.append([])\n",
    "  for (i,q) in alpha:\n",
    "      if alpha[i,q].X>EPS:\n",
    "          a[q-1].append(gamma[i-1])\n",
    "  \n",
    "  for (i,q) in beta:\n",
    "      if beta[i,q].X>EPS:\n",
    "          a[q-1].append(gamma[i-1])\n",
    "\n",
    "  for q in Q:\n",
    "      a[q-1]=sorted(a[q-1],reverse=True)\n",
    "\n",
    "  result=np.zeros((stack_num,height))\n",
    "  for q in Q:\n",
    "    for i,r in enumerate(a[q-1]):\n",
    "      result[height-i-1][q-1]=r\n",
    "      # print(i,r)\n",
    "\n",
    "  result=result.astype(int)\n",
    "  print(result)\n",
    "  print(\"the objective function\", m.objVal)\n",
    "#   print(\"VaR=\",alpha.X)"
   ]
  },
  {
   "cell_type": "markdown",
   "metadata": {},
   "source": [
    "## BRP"
   ]
  },
  {
   "cell_type": "code",
   "execution_count": 80,
   "metadata": {},
   "outputs": [],
   "source": [
    "# nと初期配置を変更しなければいけない\n",
    "ship_num=3\n",
    "stack_num=4\n",
    "height=4\n",
    "num=8\n",
    "\n",
    "O1=[i+1 for i in range(ship_num)]\n",
    "\n",
    "Q=[i+1 for i in range(stack_num)]\n",
    "L=[i+1 for i in range(height)]\n",
    "P=[i+1 for i in range(ship_num)]\n",
    "# I=[i+1 for i in range(num)]\n",
    "I=[1,1,3,4,5,6,7,8]\n",
    "f=stack_num*height-len(I)\n",
    "time = 3*len(I)\n",
    "T=[i+1 for i in range(time)]"
   ]
  },
  {
   "cell_type": "code",
   "execution_count": 82,
   "metadata": {},
   "outputs": [
    {
     "ename": "AttributeError",
     "evalue": "'int' object has no attribute 'addConstr'",
     "output_type": "error",
     "traceback": [
      "\u001b[1;31m---------------------------------------------------------------------------\u001b[0m",
      "\u001b[1;31mAttributeError\u001b[0m                            Traceback (most recent call last)",
      "\u001b[1;32mセル16 を Ubuntu\\home\\ikumadaiki\\CPMP\\compare.ipynb\u001b[0m in \u001b[0;36m<cell line: 41>\u001b[1;34m()\u001b[0m\n\u001b[0;32m     <a href='vscode-notebook-cell://wsl.localhost/Ubuntu/home/ikumadaiki/CPMP/compare.ipynb#X26sZmlsZQ%3D%3D?line=38'>39</a>\u001b[0m   m\u001b[39m.\u001b[39maddConstr(quicksum(x[i,j,k,l,n,t] \u001b[39mfor\u001b[39;00m i \u001b[39min\u001b[39;00m Q \u001b[39mfor\u001b[39;00m j \u001b[39min\u001b[39;00m L \u001b[39mfor\u001b[39;00m k \u001b[39min\u001b[39;00m Q \u001b[39mfor\u001b[39;00m l \u001b[39min\u001b[39;00m L \u001b[39mfor\u001b[39;00m n \u001b[39min\u001b[39;00m I)\u001b[39m+\u001b[39mquicksum(y[i,j,n,t] \u001b[39mfor\u001b[39;00m i \u001b[39min\u001b[39;00m Q \u001b[39mfor\u001b[39;00m j \u001b[39min\u001b[39;00m L \u001b[39mfor\u001b[39;00m n \u001b[39min\u001b[39;00m I)\u001b[39m<\u001b[39m\u001b[39m=\u001b[39m\u001b[39m1\u001b[39m)\n\u001b[0;32m     <a href='vscode-notebook-cell://wsl.localhost/Ubuntu/home/ikumadaiki/CPMP/compare.ipynb#X26sZmlsZQ%3D%3D?line=40'>41</a>\u001b[0m \u001b[39mfor\u001b[39;00m n,m \u001b[39min\u001b[39;00m \u001b[39menumerate\u001b[39m(\u001b[39mrange\u001b[39m(\u001b[39m1\u001b[39m,\u001b[39mlen\u001b[39m(I))):\n\u001b[1;32m---> <a href='vscode-notebook-cell://wsl.localhost/Ubuntu/home/ikumadaiki/CPMP/compare.ipynb#X26sZmlsZQ%3D%3D?line=41'>42</a>\u001b[0m   m\u001b[39m.\u001b[39;49maddConstr(quicksum(v[n,t] \u001b[39mfor\u001b[39;00m t \u001b[39min\u001b[39;00m T)\u001b[39m>\u001b[39m\u001b[39m=\u001b[39mquicksum(v[n\u001b[39m+\u001b[39m\u001b[39m1\u001b[39m,t] \u001b[39mfor\u001b[39;00m t \u001b[39min\u001b[39;00m T)\u001b[39m+\u001b[39m\u001b[39m1\u001b[39m)\n\u001b[0;32m     <a href='vscode-notebook-cell://wsl.localhost/Ubuntu/home/ikumadaiki/CPMP/compare.ipynb#X26sZmlsZQ%3D%3D?line=43'>44</a>\u001b[0m \u001b[39mfor\u001b[39;00m i \u001b[39min\u001b[39;00m Q:\n\u001b[0;32m     <a href='vscode-notebook-cell://wsl.localhost/Ubuntu/home/ikumadaiki/CPMP/compare.ipynb#X26sZmlsZQ%3D%3D?line=44'>45</a>\u001b[0m   \u001b[39mfor\u001b[39;00m j \u001b[39min\u001b[39;00m L:\n",
      "\u001b[1;31mAttributeError\u001b[0m: 'int' object has no attribute 'addConstr'"
     ]
    }
   ],
   "source": [
    "m=Model(\"BRP\")\n",
    "\n",
    "# 変数の定義\n",
    "b,v,x,y={},{},{},{}\n",
    "for i in Q:\n",
    "  for j in L:\n",
    "    for n in I:\n",
    "      for t in T:\n",
    "        b[i,j,n,t]=m.addVar(vtype=\"B\")\n",
    "        y[i,j,n,t]=m.addVar(vtype=\"B\")\n",
    "\n",
    "for n in I:\n",
    "  for t in T:\n",
    "    v[n,t]=m.addVar(vtype=\"B\")\n",
    "\n",
    "for i in Q:\n",
    "  for j in L:\n",
    "    for k in Q:\n",
    "      for l in L:\n",
    "        for n in I:\n",
    "          for t in T:\n",
    "            x[i,j,k,l,n,t]=m.addVar(vtype=\"B\")\n",
    "\n",
    "for n in I:\n",
    "  for t in T:\n",
    "    m.addConstr(quicksum(b[i,j,n,t] for i in Q for j in L)+v[n,t]==1)\n",
    "\n",
    "for i in Q:\n",
    "  for j in L:\n",
    "    for t in T:\n",
    "      m.addConstr(quicksum(b[i,j,n,t] for n in I)<=1)\n",
    "\n",
    "for i in Q:\n",
    "  for j in range(1,len(L)):\n",
    "    for t in T:\n",
    "      m.addConstr(quicksum(b[i,j,n,t] for n in I)>=quicksum(b[i,j+1,n,t] for n in I))\n",
    "\n",
    "for t in T:\n",
    "  m.addConstr(quicksum(x[i,j,k,l,n,t] for i in Q for j in L for k in Q for l in L for n in I)+quicksum(y[i,j,n,t] for i in Q for j in L for n in I)<=1)\n",
    "\n",
    "for n in range(1,len(I)):\n",
    "  m.addConstr(quicksum(v[n,t] for t in T)>=quicksum(v[n+1,t] for t in T)+1)\n",
    "\n",
    "for i in Q:\n",
    "  for j in L:\n",
    "    for n in I:\n",
    "      for t in range(2,len(T)+1):\n",
    "        m.addConstr(b[i,j,n,t]==b[i,j,n,t-1]+quicksum(x[k,l,i,j,n,t-1] for k in Q for l in L)-quicksum(x[i,j,k,l,n,t-1] for k in Q for l in L)-y[i,j,n,t-1])\n",
    "\n",
    "for n in I:\n",
    "  for t in T:\n",
    "    m.addConstr(v[n,t]==quicksum(y[i,j,n,t_] for i in Q for j in L for t_ in range(1,t)))\n",
    "\n",
    "m.setObjective(quicksum(v[len(I),t] for t in T),GRB.MAXIMIZE)"
   ]
  },
  {
   "cell_type": "code",
   "execution_count": 78,
   "metadata": {},
   "outputs": [
    {
     "data": {
      "text/plain": [
       "<gurobi.Constr *Awaiting Model Update*>"
      ]
     },
     "execution_count": 78,
     "metadata": {},
     "output_type": "execute_result"
    }
   ],
   "source": [
    "m.addConstr(b[1,1,8,1]==1)\n",
    "m.addConstr(b[1,2,7,1]==1)\n",
    "m.addConstr(b[1,3,6,1]==1)\n",
    "m.addConstr(b[2,1,1,1]==1)\n",
    "m.addConstr(b[3,1,1,1]==1)\n",
    "m.addConstr(b[3,2,3,1]==1)\n",
    "m.addConstr(b[3,3,4,1]==1)\n",
    "m.addConstr(b[3,4,5,1]==1)"
   ]
  },
  {
   "cell_type": "code",
   "execution_count": 79,
   "metadata": {},
   "outputs": [
    {
     "name": "stdout",
     "output_type": "stream",
     "text": [
      "Gurobi Optimizer version 9.5.1 build v9.5.1rc2 (win64)\n",
      "Thread count: 4 physical cores, 8 logical processors, using up to 8 threads\n",
      "Optimize a model with 4039 rows, 55488 columns and 196184 nonzeros\n",
      "Model fingerprint: 0x87fce3b0\n",
      "Variable types: 0 continuous, 55488 integer (55488 binary)\n",
      "Coefficient statistics:\n",
      "  Matrix range     [1e+00, 1e+00]\n",
      "  Objective range  [1e+00, 1e+00]\n",
      "  Bounds range     [1e+00, 1e+00]\n",
      "  RHS range        [1e+00, 1e+00]\n",
      "Presolve removed 17 rows and 5136 columns\n",
      "Presolve time: 0.07s\n",
      "\n",
      "Explored 0 nodes (0 simplex iterations) in 0.23 seconds (0.04 work units)\n",
      "Thread count was 1 (of 8 available processors)\n",
      "\n",
      "Solution count 0\n",
      "No other solutions better than -1e+100\n",
      "\n",
      "Model is infeasible\n",
      "Best objective -, best bound -, gap -\n"
     ]
    }
   ],
   "source": [
    "m.optimize()"
   ]
  },
  {
   "cell_type": "code",
   "execution_count": 74,
   "metadata": {},
   "outputs": [
    {
     "name": "stdout",
     "output_type": "stream",
     "text": [
      "the objective function 11.0\n"
     ]
    }
   ],
   "source": [
    "print(\"the objective function\", len(T)-m.objVal)\n",
    "#   print(\"VaR=\",alpha.X)"
   ]
  },
  {
   "cell_type": "code",
   "execution_count": 75,
   "metadata": {},
   "outputs": [
    {
     "name": "stdout",
     "output_type": "stream",
     "text": [
      "v[ 1, 5]=1.0\n",
      "v[ 2, 6]=1.0\n",
      "v[ 3, 7]=1.0\n",
      "v[ 4, 8]=1.0\n",
      "v[ 5, 9]=1.0\n",
      "v[ 6,10]=1.0\n",
      "v[ 7,11]=1.0\n",
      "v[ 8,12]=1.0\n"
     ]
    }
   ],
   "source": [
    "EPS=1.e-5\n",
    "for (n,t) in v:\n",
    "  if t!=1:\n",
    "    if (v[n,t].X-v[n,t-1].X)>EPS:\n",
    "      print(\"v[%2s,%2s]=%3s\" %(n,t,v[n,t].X))"
   ]
  },
  {
   "cell_type": "code",
   "execution_count": null,
   "metadata": {},
   "outputs": [],
   "source": []
  }
 ],
 "metadata": {
  "kernelspec": {
   "display_name": "Python 3.9.13 64-bit (microsoft store)",
   "language": "python",
   "name": "python3"
  },
  "language_info": {
   "codemirror_mode": {
    "name": "ipython",
    "version": 3
   },
   "file_extension": ".py",
   "mimetype": "text/x-python",
   "name": "python",
   "nbconvert_exporter": "python",
   "pygments_lexer": "ipython3",
   "version": "3.9.13"
  },
  "orig_nbformat": 4,
  "vscode": {
   "interpreter": {
    "hash": "0bc652a6662848c169ddaad7e75fc7966486f1f662e7670e7ffb2b305ef6abae"
   }
  }
 },
 "nbformat": 4,
 "nbformat_minor": 2
}
