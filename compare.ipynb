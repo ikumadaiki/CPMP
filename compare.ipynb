{
 "cells": [
  {
   "cell_type": "code",
   "execution_count": 1,
   "metadata": {},
   "outputs": [],
   "source": [
    "from gurobipy import *"
   ]
  },
  {
   "cell_type": "markdown",
   "metadata": {},
   "source": [
    "## 本研究"
   ]
  },
  {
   "cell_type": "code",
   "execution_count": 2,
   "metadata": {},
   "outputs": [],
   "source": [
    "def IPS6(ship_num,stack_num,height,n,size,beta):\n",
    " \n",
    "\n",
    "  O1=[i+1 for i in range(ship_num)]\n",
    "\n",
    "  S=[i+1 for i in range(stack_num)]\n",
    "  H=[i+1 for i in range(height)]\n",
    "  P=[i+1 for i in range(ship_num)]\n",
    "\n",
    "\n",
    "  f=stack_num*height-sum(n)\n",
    "\n",
    "  from asyncio.constants import SENDFILE_FALLBACK_READBUFFER_SIZE\n",
    "  import random\n",
    "  from random import seed\n",
    "  import numpy as np\n",
    "  from scipy.stats import multivariate_normal\n",
    "\n",
    "  np.random.seed(1)\n",
    "\n",
    "  # 期待値と分散共分散行列の準備\n",
    "  mean = np.arange(1,2*ship_num,2)\n",
    "  cov=np.zeros((ship_num,ship_num))\n",
    "  for i in range(ship_num):\n",
    "    for j in range(ship_num):\n",
    "      if i==j:\n",
    "        cov[i][i]=2*abs(np.random.randn())\n",
    "      elif i>j:\n",
    "        cov[i][j]=2*np.random.randn()\n",
    "        cov[j][i]=cov[i][j]\n",
    "\n",
    "  # numpy を用いた生成\n",
    "  size=size\n",
    "  data_1 = np.random.multivariate_normal(mean, cov, size=size)\n",
    "\n",
    "  # print(data_1.shape)\n",
    "\n",
    "  # print(np.mean(data_1, axis=0))\n",
    "\n",
    "  # print(np.cov(data_1, rowvar=False))\n",
    "\n",
    "  # print(data_1)\n",
    "  O_=np.argsort(data_1)\n",
    "  O_=O_+np.ones((size,ship_num)).astype(int)\n",
    "  O=O_.tolist()\n",
    "\n",
    "  # data_2 = multivariate_normal(mean, cov).rvs(size=200)\n",
    "\n",
    "  # print(data_2.shape)\n",
    "\n",
    "  # print(np.mean(data_2, axis=0))\n",
    "\n",
    "  # print(np.cov(data_2, rowvar=False))\n",
    "\n",
    "  a=[]\n",
    "  b={}\n",
    "  for i in O:\n",
    "    # print(i)\n",
    "    if not i in a:\n",
    "      a.append(i)\n",
    "      for j in a:\n",
    "        b[tuple(j)]=O.count(j)\n",
    "\n",
    "  m=Model(\"IPS6\")\n",
    "\n",
    "  alpha=m.addVar(vtype=\"C\")\n",
    "\n",
    "  # 変数の定義\n",
    "  x,c,d={},{},{}\n",
    "  for s in S:\n",
    "    for h in H:\n",
    "      for p in P:\n",
    "        x[s,h,p]=m.addVar(vtype=\"B\")\n",
    "\n",
    "  for s in S:\n",
    "    for h in range(2,len(H)+1):\n",
    "      for i,o in enumerate(O):\n",
    "        c[s,h,i]=m.addVar(vtype=\"c\",lb=0)\n",
    "\n",
    "  for i in range(len(O)):\n",
    "    d[i]=m.addVar(vtype=\"C\",lb=0)\n",
    "\n",
    "  for p in P:\n",
    "    m.addConstr(quicksum(x[s,h,p] for s in S for h in H)==n[p-1])\n",
    "\n",
    "  for s in S:\n",
    "    for h in H:\n",
    "      m.addConstr(quicksum(x[s,h,p] for p in P)<=1)\n",
    "\n",
    "  for s in S:\n",
    "    for h in range(1,len(H)):\n",
    "      m.addConstr(quicksum(x[s,h+1,p] for p in P)<=quicksum(x[s,h,p] for p in P))\n",
    "\n",
    "  for s in S:\n",
    "    for h in range(2,len(H)+1):\n",
    "      for h_ in range(1,h):\n",
    "        for i,o in enumerate(O):\n",
    "          for j,p in enumerate(o):\n",
    "            m.addConstr(c[s,h,i]>=quicksum(x[s,h,k] for k in o[j:])-quicksum(x[s,h_,k] for k in o[j:]))\n",
    "\n",
    "  for i in range(len(O)):\n",
    "    m.addConstr(d[i]>=quicksum(c[s,h,i] for s in S for h in H if h!=1)-alpha)\n",
    "\n",
    "\n",
    "  m.setObjective(alpha+quicksum(d[i] for i in range(len(O)))/((1-beta)*len(O)))\n",
    "\n",
    "  if f>=height:\n",
    "    m.optimize()\n",
    "  else:\n",
    "    print(\"f<h\")\n",
    "\n",
    "  print(\"================================================\")\n",
    "\n",
    "# def result(self):\n",
    "  EPS=1.e-6\n",
    "\n",
    "  if m.Status == GRB.OPTIMAL:\n",
    "  # for (s,h,p,t) in x:\n",
    "  #   if t==len(T):\n",
    "  #     if x[s,h,p,t].X>EPS:\n",
    "  #       print(\"x[%2s,%2s,%2s,%2s]=%3s\" %(s,h,p,t,x[s,h,p,t].X)\n",
    "\n",
    "    for (s,h,i) in c:\n",
    "      if c[s,h,i].X>EPS:\n",
    "        print(\"c[%2s,%2s,%2s]=%3s  %4s\" %(s,h,i,c[s,h,i].X,O[i]))\n",
    "\n",
    "    global result\n",
    "    result=np.zeros((height,stack_num))\n",
    "    for (s,h,p) in x:\n",
    "      if x[s,h,p].X>EPS:\n",
    "    # print(\"x[%2s,%2s,%2s]=%3s  %4s\" %(s,h,p,x[s,h,p].X,O[i]))\n",
    "        result[height-h][s-1]=int(p)\n",
    "\n",
    "    result=result.astype(int)\n",
    "    print(\"VaR=\",alpha.X)\n",
    "    print(\"the objective function\", m.objVal)\n",
    "    print(result)\n",
    "\n",
    "\n",
    "    data_2 = np.random.multivariate_normal(mean, cov, size=size)\n",
    "\n",
    "    OR_=np.argsort(data_2)\n",
    "    OR_=OR_+np.ones((size,ship_num)).astype(int)\n",
    "    OR=OR_.tolist()\n",
    "\n",
    "    global penalty\n",
    "    penalty=[]\n",
    "    for k in OR:\n",
    "      O=k\n",
    "      a=0\n",
    "      for j in range(stack_num):\n",
    "          for i in range(1,height):\n",
    "              for i_ in range(i+1,height+1):\n",
    "                  if not result[i-1][j]==0 or result[i_-1][j]==0:\n",
    "                      if O[result[i-1][j]-1]>O[result[i_-1][j]-1]:\n",
    "                          a+=1\n",
    "                          # print(\"penalty!\")\n",
    "                              # print(i,i_,j+1,O)\n",
    "                          break\n",
    "      penalty.append(a)\n",
    "      # print(a)\n",
    "    penalty=np.sort(penalty)\n",
    "    penalty=penalty[round(0.2*size):]\n",
    "    print(penalty)\n",
    "\n",
    "    import matplotlib.pyplot as plt\n",
    "    plt.boxplot(penalty)"
   ]
  },
  {
   "cell_type": "code",
   "execution_count": 3,
   "metadata": {},
   "outputs": [
    {
     "name": "stdout",
     "output_type": "stream",
     "text": [
      "Set parameter Username\n",
      "Academic license - for non-commercial use only - expires 2023-10-03\n"
     ]
    },
    {
     "name": "stderr",
     "output_type": "stream",
     "text": [
      "C:\\Users\\Owner\\AppData\\Local\\Temp\\ipykernel_4568\\2302796056.py:34: RuntimeWarning: covariance is not positive-semidefinite.\n",
      "  data_1 = np.random.multivariate_normal(mean, cov, size=size)\n"
     ]
    },
    {
     "name": "stdout",
     "output_type": "stream",
     "text": [
      "Gurobi Optimizer version 9.5.2 build v9.5.2rc0 (win64)\n",
      "Thread count: 8 physical cores, 16 logical processors, using up to 16 threads\n",
      "Optimize a model with 72166 rows, 2861 columns and 1011896 nonzeros\n",
      "Model fingerprint: 0x51b3b222\n",
      "Variable types: 2501 continuous, 360 integer (360 binary)\n",
      "Coefficient statistics:\n",
      "  Matrix range     [1e+00, 1e+00]\n",
      "  Objective range  [5e-02, 1e+00]\n",
      "  Bounds range     [1e+00, 1e+00]\n",
      "  RHS range        [1e+00, 3e+00]\n",
      "Presolve removed 2920 rows and 100 columns\n",
      "Presolve time: 2.34s\n",
      "Presolved: 69246 rows, 2761 columns, 971340 nonzeros\n",
      "Variable types: 2401 continuous, 360 integer (360 binary)\n",
      "Found heuristic solution: objective 15.1500000\n",
      "\n",
      "Use crossover to convert LP symmetric solution to basic solution...\n",
      "\n",
      "Root relaxation: objective 0.000000e+00, 603 iterations, 0.53 seconds (0.67 work units)\n",
      "\n",
      "    Nodes    |    Current Node    |     Objective Bounds      |     Work\n",
      " Expl Unexpl |  Obj  Depth IntInf | Incumbent    BestBd   Gap | It/Node Time\n",
      "\n",
      "H    0     0                       0.0000000    0.00000  0.00%     -    3s\n",
      "     0     0    0.00000    0   17    0.00000    0.00000  0.00%     -    3s\n",
      "\n",
      "Explored 1 nodes (1227 simplex iterations) in 4.00 seconds (5.55 work units)\n",
      "Thread count was 16 (of 16 available processors)\n",
      "\n",
      "Solution count 2: 0 15.15 \n",
      "\n",
      "Optimal solution found (tolerance 1.00e-04)\n",
      "Best objective 0.000000000000e+00, best bound 0.000000000000e+00, gap 0.0000%\n",
      "================================================\n",
      "VaR= 0.0\n",
      "the objective function 0.0\n",
      "[[ 0  6  1  3  0  0]\n",
      " [ 0  6  1  3  0  2]\n",
      " [ 4 10  1  8  0  2]\n",
      " [ 4 10 11 12  5  7]\n",
      " [ 8 10 11 12  9  7]]\n",
      "[0 0 0 0 0 0 0 0 0 0 0 0 0 0 0 0 0 0 0 0 0 0 0 0 0 0 0 0 0 0 0 0 0 0 0 0 0\n",
      " 0 0 0 0 0 0 0 0 0 0 0 0 0 0 0 0 0 0 0 0 0 0 0 0 0 0 0 0 0 0 0 0 0 0 0 0 0\n",
      " 0 0 0 1 1 2]\n"
     ]
    },
    {
     "name": "stderr",
     "output_type": "stream",
     "text": [
      "C:\\Users\\Owner\\AppData\\Local\\Temp\\ipykernel_4568\\2302796056.py:140: RuntimeWarning: covariance is not positive-semidefinite.\n",
      "  data_2 = np.random.multivariate_normal(mean, cov, size=size)\n"
     ]
    },
    {
     "data": {
      "image/png": "[encoded data removed]",
      "text/plain": [
       "<Figure size 432x288 with 1 Axes>"
      ]
     },
     "metadata": {
      "needs_background": "light"
     },
     "output_type": "display_data"
    }
   ],
   "source": [
    "ship_num=12\n",
    "stack_num=6\n",
    "height=5\n",
    "n=[3,2,2,2,1,2,2,2,1,3,2,2]\n",
    "IPS6(ship_num,stack_num,height,n,100,0.8)"
   ]
  },
  {
   "cell_type": "markdown",
   "metadata": {},
   "source": [
    "## 先行研究１"
   ]
  },
  {
   "cell_type": "code",
   "execution_count": 4,
   "metadata": {},
   "outputs": [],
   "source": [
    "def robust(ship_num,stack_num,height,n,Gamma,size):\n",
    "    # nと初期配置を変更しなければいけない\n",
    "    num=sum(n)\n",
    "\n",
    "    import numpy as np\n",
    "\n",
    "    O1=[i+1 for i in range(ship_num)]\n",
    "\n",
    "    Q=[i+1 for i in range(stack_num)]\n",
    "    L=[i+1 for i in range(height)]\n",
    "    P=[i+1 for i in range(ship_num)]\n",
    "    I=[i+1 for i in range(num)]\n",
    "    f=stack_num*height-len(I)\n",
    "    a=1\n",
    "    gamma=[]\n",
    "    for i in n:\n",
    "        for j in range(1,i+1):\n",
    "            gamma.append(a)\n",
    "        a+=1\n",
    "    \n",
    "    m=Model(\"BI\")\n",
    "\n",
    "    # 変数の定義\n",
    "    alpha,beta={},{}\n",
    "    for i in I:\n",
    "        for q in Q:\n",
    "            alpha[i,q]=m.addVar(vtype=\"B\")\n",
    "            beta[i,q]=m.addVar(vtype=\"B\")\n",
    "    J=[]\n",
    "    for i in I:\n",
    "        J.append([])\n",
    "        for j in I:\n",
    "            if gamma[i-1]<gamma[j-1]:\n",
    "                if gamma[j-1]-gamma[i-1]<=Gamma:\n",
    "                    J[i-1].append(j)\n",
    "\n",
    "    for q in Q:\n",
    "        m.addConstr(quicksum((alpha[i,q]+beta[i,q]) for i in I)<=len(L))\n",
    "\n",
    "    for i in I:\n",
    "        m.addConstr(quicksum((alpha[i,q]+beta[i,q]) for q in Q)==1)\n",
    "\n",
    "    for i in I:\n",
    "        for j in J[i-1]:\n",
    "            for q in Q:\n",
    "                m.addConstr(alpha[i,q]+alpha[j,q]+beta[j,q]<=1)\n",
    "\n",
    "    m.setObjective(quicksum(beta[i,q] for i in I for q in Q))\n",
    "\n",
    "    if f>=height:\n",
    "        m.optimize()\n",
    "\n",
    "    EPS=1.e-6\n",
    "\n",
    "    if m.Status == GRB.OPTIMAL:\n",
    "        print(\"====================================================\")\n",
    "        # for (s,h,p,t) in x:\n",
    "        #   if t==len(T):\n",
    "        #     if x[s,h,p,t].X>EPS:\n",
    "        #       print(\"x[%2s,%2s,%2s,%2s]=%3s\" %(s,h,p,t,x[s,h,p,t].X)\n",
    "\n",
    "        for (i,q) in beta:\n",
    "            if beta[i,q].X>EPS:\n",
    "                print(\"beta[%2s,%2s]=%3s\" %(gamma[i-1],q,beta[i,q].X))\n",
    "\n",
    "        EPS=1.e-6\n",
    "        a=[]\n",
    "        for q in Q:\n",
    "            a.append([])\n",
    "        for (i,q) in alpha:\n",
    "            if alpha[i,q].X>EPS:\n",
    "                a[q-1].append(gamma[i-1])\n",
    "        \n",
    "        for (i,q) in beta:\n",
    "            if beta[i,q].X>EPS:\n",
    "                a[q-1].append(gamma[i-1])\n",
    "\n",
    "        for q in Q:\n",
    "            a[q-1]=sorted(a[q-1],reverse=True)\n",
    "\n",
    "        global result_r\n",
    "        result_r=np.zeros((height,stack_num))\n",
    "        for q in Q:\n",
    "            for i,r in enumerate(a[q-1]):\n",
    "                result_r[height-i-1][q-1]=r\n",
    "            # print(i,r)\n",
    "\n",
    "        result_r=result_r.astype(int)\n",
    "        \n",
    "        print(result_r)\n",
    "        print(\"the objective function\", m.objVal)\n",
    "\n",
    "        from asyncio.constants import SENDFILE_FALLBACK_READBUFFER_SIZE\n",
    "        import random\n",
    "        from random import seed\n",
    "        import numpy as np\n",
    "        from scipy.stats import multivariate_normal\n",
    "\n",
    "        np.random.seed(1)\n",
    "\n",
    "        # 期待値と分散共分散行列の準備\n",
    "        mean = np.arange(1,2*ship_num,2)\n",
    "        cov=np.zeros((ship_num,ship_num))\n",
    "        for i in range(ship_num):\n",
    "            for j in range(ship_num):\n",
    "                if i==j:\n",
    "                    cov[i][i]=4*np.random.randn()\n",
    "                elif i>j:\n",
    "                    cov[i][j]=np.random.randn()\n",
    "                    cov[j][i]=cov[i][j]\n",
    "\n",
    "        # numpy を用いた生成\n",
    "        size=size\n",
    "\n",
    "        data_2 = np.random.multivariate_normal(mean, cov, size=size)\n",
    "\n",
    "        OR_=np.argsort(data_2)\n",
    "        OR_=OR_+np.ones((size,ship_num)).astype(int)\n",
    "        OR=OR_.tolist()\n",
    "        \n",
    "        global penalty_r\n",
    "        penalty_r=[]\n",
    "        for k in OR:\n",
    "            O=k\n",
    "            a=0\n",
    "            for j in range(stack_num):\n",
    "                for i in range(1,height):\n",
    "                    for i_ in range(i+1,height+1):\n",
    "                        if not result_r[i-1][j]==0 or result_r[i_-1][j]==0:\n",
    "                            if O[result_r[i-1][j]-1]>O[result_r[i_-1][j]-1]:\n",
    "                                a+=1\n",
    "                                # print(\"penalty!\")\n",
    "                                # print(i,i_,j+1,O)\n",
    "                                break\n",
    "            penalty_r.append(a)\n",
    "        \n",
    "        penalty_r=np.sort(penalty_r)\n",
    "        penalty_r=penalty_r[round(0.2*size):]\n",
    "        print(penalty_r)\n",
    "\n",
    "        import matplotlib.pyplot as plt\n",
    "        plt.boxplot(penalty_r)"
   ]
  },
  {
   "cell_type": "code",
   "execution_count": 5,
   "metadata": {},
   "outputs": [
    {
     "name": "stdout",
     "output_type": "stream",
     "text": [
      "Gurobi Optimizer version 9.5.2 build v9.5.2rc0 (win64)\n",
      "Thread count: 8 physical cores, 16 logical processors, using up to 16 threads\n",
      "Optimize a model with 276 rows, 288 columns and 1314 nonzeros\n",
      "Model fingerprint: 0xdaafa84c\n",
      "Variable types: 0 continuous, 288 integer (288 binary)\n",
      "Coefficient statistics:\n",
      "  Matrix range     [1e+00, 1e+00]\n",
      "  Objective range  [1e+00, 1e+00]\n",
      "  Bounds range     [1e+00, 1e+00]\n",
      "  RHS range        [1e+00, 5e+00]\n",
      "Found heuristic solution: objective 14.0000000\n",
      "Presolve removed 0 rows and 12 columns\n",
      "Presolve time: 0.00s\n",
      "Presolved: 276 rows, 276 columns, 1266 nonzeros\n",
      "Variable types: 0 continuous, 276 integer (276 binary)\n",
      "Found heuristic solution: objective 0.0000000\n",
      "\n",
      "Explored 0 nodes (0 simplex iterations) in 0.01 seconds (0.00 work units)\n",
      "Thread count was 16 (of 16 available processors)\n",
      "\n",
      "Solution count 2: 0 14 \n",
      "\n",
      "Optimal solution found (tolerance 1.00e-04)\n",
      "Best objective 0.000000000000e+00, best bound 0.000000000000e+00, gap 0.0000%\n",
      "====================================================\n",
      "[[ 1  1  1  2  0  0]\n",
      " [ 3  4  5  4  0  0]\n",
      " [ 6  8  7 10  0  0]\n",
      " [ 6  8  7 10  3  2]\n",
      " [12 11 10 12  9 11]]\n",
      "the objective function 0.0\n",
      "[0 0 0 0 0 0 0 0 0 0 0 0 0 0 0 0 0 0 0 0 0 0 0 0 0 0 0 0 0 0 0 0 0 0 0 0 0\n",
      " 0 0 0 0 0 0 0 0 0 0 0 1 1 1 1 1 1 1 1 1 1 1 1 1 1 1 1 1 1 1 1 1 1 2 2 2 2\n",
      " 2 2 2 2 2 2]\n"
     ]
    },
    {
     "name": "stderr",
     "output_type": "stream",
     "text": [
      "C:\\Users\\Owner\\AppData\\Local\\Temp\\ipykernel_4568\\3161935080.py:115: RuntimeWarning: covariance is not positive-semidefinite.\n",
      "  data_2 = np.random.multivariate_normal(mean, cov, size=size)\n"
     ]
    },
    {
     "data": {
      "image/png": "[encoded data removed]",
      "text/plain": [
       "<Figure size 432x288 with 1 Axes>"
      ]
     },
     "metadata": {
      "needs_background": "light"
     },
     "output_type": "display_data"
    }
   ],
   "source": [
    "ship_num=12\n",
    "stack_num=6\n",
    "height=5\n",
    "\n",
    "robust(ship_num,stack_num,height,n,1,100)\n",
    "# AI.solve()"
   ]
  },
  {
   "cell_type": "code",
   "execution_count": 6,
   "metadata": {},
   "outputs": [
    {
     "data": {
      "image/png": "[encoded data removed]",
      "text/plain": [
       "<Figure size 432x288 with 1 Axes>"
      ]
     },
     "metadata": {
      "needs_background": "light"
     },
     "output_type": "display_data"
    }
   ],
   "source": [
    "import matplotlib.pyplot as plt\n",
    "data=(penalty,penalty_r)\n",
    "plt.boxplot(data)\n",
    "plt.show()"
   ]
  },
  {
   "cell_type": "code",
   "execution_count": 84,
   "metadata": {},
   "outputs": [
    {
     "name": "stdout",
     "output_type": "stream",
     "text": [
      "Gurobi Optimizer version 9.5.2 build v9.5.2rc0 (win64)\n",
      "Thread count: 8 physical cores, 16 logical processors, using up to 16 threads\n",
      "Optimize a model with 504 rows, 288 columns and 1998 nonzeros\n",
      "Model fingerprint: 0x4cb3d62b\n",
      "Variable types: 0 continuous, 288 integer (288 binary)\n",
      "Coefficient statistics:\n",
      "  Matrix range     [1e+00, 1e+00]\n",
      "  Objective range  [1e+00, 1e+00]\n",
      "  Bounds range     [1e+00, 1e+00]\n",
      "  RHS range        [1e+00, 6e+00]\n",
      "Found heuristic solution: objective 14.0000000\n",
      "Presolve removed 150 rows and 12 columns\n",
      "Presolve time: 0.00s\n",
      "Presolved: 354 rows, 276 columns, 1776 nonzeros\n",
      "Variable types: 0 continuous, 276 integer (276 binary)\n",
      "Found heuristic solution: objective 3.0000000\n",
      "\n",
      "Root relaxation: objective 0.000000e+00, 75 iterations, 0.00 seconds (0.00 work units)\n",
      "\n",
      "    Nodes    |    Current Node    |     Objective Bounds      |     Work\n",
      " Expl Unexpl |  Obj  Depth IntInf | Incumbent    BestBd   Gap | It/Node Time\n",
      "\n",
      "*    0     0               0       0.0000000    0.00000  0.00%     -    0s\n",
      "\n",
      "Explored 1 nodes (75 simplex iterations) in 0.01 seconds (0.01 work units)\n",
      "Thread count was 16 (of 16 available processors)\n",
      "\n",
      "Solution count 3: 0 3 14 \n",
      "\n",
      "Optimal solution found (tolerance 1.00e-04)\n",
      "Best objective 0.000000000000e+00, best bound 0.000000000000e+00, gap 0.0000%\n",
      "====================================================\n",
      "[[ 3  1  0  0  0  0]\n",
      " [ 3  1  0  0  0  0]\n",
      " [ 8  1  0  0  2  0]\n",
      " [ 8  4  4  0  6  2]\n",
      " [11  7  7  6  9  5]\n",
      " [11 10 10 12 12 10]]\n",
      "the objective function 0.0\n",
      "[0 0 0 0 0 0 0 0 0 0 0 0 0 0 0 0 0 0 0 0 0 0 0 0 0 0 0 0 0 0 0 0 0 0 0 0 0\n",
      " 0 0 0 0 0 0 0 0 0 0 0 0 0 0 0 0 0 0 0 0 0 0 0 0 0 0 0 0 0 0 0 0 0 0 0 0 0\n",
      " 0 0 0 0 0 0 0 0 0 0 0 0 0 0 0 0 0 0 0 0 0 0 0 0 0 0 0 0 0 0 0 0 0 0 0 0 0\n",
      " 0 0 0 0 0 0 0 0 0 0 0 0 0 0 0 0 0 0 0 0 0 0 0 0 0 0 0 0 0 0 0 0 0 0 0 0 0\n",
      " 0 0 0 0 0 0 0 0 0 0 0 0 0 0 0 0 0 0 0 0 0 0 0 0 0 0 0 0 0 0 0 0 0 0 0 0 0\n",
      " 0 0 0 0 0 0 0 0 0 0 0 0 0 0 0 0 0 0 0 0 0 0 0 0 0 0 0 0 0 0 0 0 0 0 0 0 0\n",
      " 0 0 0 0 0 0 0 0 0 0 0 0 0 0 0 0 0 0 0 0 0 0 0 0 0 0 0 0 0 0 0 0 0 0 0 0 0\n",
      " 0 0 0 0 0 0 0 0 0 0 0 0 0 0 0 0 0 0 0 0 0 0 0 0 0 0 0 0 0 0 0 0 0 0 0 0 0\n",
      " 0 0 0 0 0 0 0 0 0 0 0 0 0 0 0 0 0 0 0 0 0 0 0 0 0 0 0 0 0 0 0 0 0 0 0 0 0\n",
      " 0 0 0 0 0 0 0 0 0 0 0 0 0 0 0 0 0 0 0 0 0 0 0 0 0 0 0 0 0 0 0 0 0 0 0 0 0\n",
      " 0 0 0 0 0 0 0 0 0 0 0 0 0 0 0 0 0 0 0 0 0 0 0 0 0 0 0 0 0 0 0 0 0 0 0 0 0\n",
      " 0 0 0 0 0 0 0 0 0 0 0 0 0 0 0 0 0 0 0 0 0 0 0 0 0 0 0 0 0 0 0 0 0 0 0 0 0\n",
      " 0 0 0 0 0 0 0 0 0 0 0 0 0 0 0 0 0 0 0 0 0 0 0 0 0 0 0 0 0 0 0 0 0 0 0 0 0\n",
      " 0 0 0 0 0 0 0 0 0 0 0 0 0 0 0 0 0 0 0 0 0 0 0 0 0 0 0 0 0 0 0 0 0 0 0 0 0\n",
      " 0 0 0 0 0 0 0 0 0 0 0 0 0 0 0 0 0 0 0 0 0 0 0 0 0 0 0 0 0 0 0 0 0 0 0 0 0\n",
      " 0 0 0 0 0 0 0 0 0 0 0 0 0 0 0 0 0 0 0 0 0 0 0 0 0 0 0 0 0 0 0 0 0 0 0 0 0\n",
      " 0 0 0 0 0 0 0 0 0 0 0 0 0 0 0 0 0 0 0 0 0 0 0 0 0 0 0 0 0 0 0 0 0 0 0 0 0\n",
      " 0 0 0 0 0 0 0 0 0 0 0 0 0 0 0 0 0 0 0 0 0 0 0 0 0 0 0 0 0 0 0 0 0 0 0 0 0\n",
      " 0 0 0 0 0 0 0 0 0 0 0 0 0 0 0 0 0 0 0 0 0 0 0 0 0 0 0 0 0 0 0 0 0 0 0 0 1\n",
      " 1 1 1 1 1 1 1 1 1 1 1 1 1 1 1 1 1 1 1 1 1 1 1 1 1 1 1 1 1 1 1 1 1 1 1 1 1\n",
      " 1 1 2 2 2 2 2 2 2 2 2 2 2 2 2 2 2 2 2 2 2 2 2 2 2 2 2 2 2 2 3 3 3 3 3 3 3\n",
      " 3 3 3 3 3 3 3 3 3 3 3 3 3 3 3 3 3 3 3 4 4 4 5]\n"
     ]
    },
    {
     "name": "stderr",
     "output_type": "stream",
     "text": [
      "C:\\Users\\Owner\\AppData\\Local\\Temp\\ipykernel_11964\\2482121781.py:115: RuntimeWarning: covariance is not positive-semidefinite.\n",
      "  data_2 = np.random.multivariate_normal(mean, cov, size=size)\n"
     ]
    },
    {
     "data": {
      "image/png": "[encoded data removed]",
      "text/plain": [
       "<Figure size 432x288 with 1 Axes>"
      ]
     },
     "metadata": {
      "needs_background": "light"
     },
     "output_type": "display_data"
    }
   ],
   "source": [
    "ship_num=12\n",
    "stack_num=6\n",
    "height=6\n",
    "\n",
    "robust(ship_num,stack_num,height,n,2,1000)\n",
    "# AI.solve()"
   ]
  },
  {
   "cell_type": "code",
   "execution_count": 85,
   "metadata": {},
   "outputs": [
    {
     "data": {
      "image/png": "[encoded data removed]",
      "text/plain": [
       "<Figure size 432x288 with 1 Axes>"
      ]
     },
     "metadata": {
      "needs_background": "light"
     },
     "output_type": "display_data"
    }
   ],
   "source": [
    "import matplotlib.pyplot as plt\n",
    "data=(penalty,penalty_r)\n",
    "plt.boxplot(data)\n",
    "plt.show()"
   ]
  },
  {
   "cell_type": "code",
   "execution_count": 86,
   "metadata": {},
   "outputs": [
    {
     "name": "stdout",
     "output_type": "stream",
     "text": [
      "Gurobi Optimizer version 9.5.2 build v9.5.2rc0 (win64)\n",
      "Thread count: 8 physical cores, 16 logical processors, using up to 16 threads\n",
      "Optimize a model with 696 rows, 288 columns and 2574 nonzeros\n",
      "Model fingerprint: 0xee0a42ab\n",
      "Variable types: 0 continuous, 288 integer (288 binary)\n",
      "Coefficient statistics:\n",
      "  Matrix range     [1e+00, 1e+00]\n",
      "  Objective range  [1e+00, 1e+00]\n",
      "  Bounds range     [1e+00, 1e+00]\n",
      "  RHS range        [1e+00, 6e+00]\n",
      "Found heuristic solution: objective 13.0000000\n",
      "Presolve removed 270 rows and 12 columns\n",
      "Presolve time: 0.00s\n",
      "Presolved: 426 rows, 276 columns, 2364 nonzeros\n",
      "Variable types: 0 continuous, 276 integer (276 binary)\n",
      "Found heuristic solution: objective 2.0000000\n",
      "\n",
      "Root relaxation: objective 0.000000e+00, 71 iterations, 0.00 seconds (0.00 work units)\n",
      "\n",
      "    Nodes    |    Current Node    |     Objective Bounds      |     Work\n",
      " Expl Unexpl |  Obj  Depth IntInf | Incumbent    BestBd   Gap | It/Node Time\n",
      "\n",
      "*    0     0               0       0.0000000    0.00000  0.00%     -    0s\n",
      "\n",
      "Explored 1 nodes (71 simplex iterations) in 0.02 seconds (0.01 work units)\n",
      "Thread count was 16 (of 16 available processors)\n",
      "\n",
      "Solution count 3: 0 2 13 \n",
      "\n",
      "Optimal solution found (tolerance 1.00e-04)\n",
      "Best objective 0.000000000000e+00, best bound 0.000000000000e+00, gap 0.0000%\n",
      "====================================================\n",
      "[[ 2  0  0  0  0  1]\n",
      " [ 2  0  0  0  0  1]\n",
      " [ 6  0  3  0  0  8]\n",
      " [10  4  3  1  0  8]\n",
      " [10  4  7  6  5 12]\n",
      " [10 11  7 11  9 12]]\n",
      "the objective function 0.0\n",
      "[0 0 0 0 0 0 0 0 0 0 0 0 0 0 0 0 0 0 0 0 0 0 0 0 0 0 0 0 0 0 0 0 0 0 0 0 0\n",
      " 0 0 0 0 0 0 0 0 0 0 0 0 0 0 0 0 0 0 0 0 0 0 0 0 0 0 0 0 0 0 0 0 0 0 0 0 0\n",
      " 0 0 0 0 0 0 0 0 0 0 0 0 0 0 0 0 0 0 0 0 0 0 0 0 0 0 0 0 0 0 0 0 0 0 0 0 0\n",
      " 0 0 0 0 0 0 0 0 0 0 0 0 0 0 0 0 0 0 0 0 0 0 0 0 0 0 0 0 0 0 0 0 0 0 0 0 0\n",
      " 0 0 0 0 0 0 0 0 0 0 0 0 0 0 0 0 0 0 0 0 0 0 0 0 0 0 0 0 0 0 0 0 0 0 0 0 0\n",
      " 0 0 0 0 0 0 0 0 0 0 0 0 0 0 0 0 0 0 0 0 0 0 0 0 0 0 0 0 0 0 0 0 0 0 0 0 0\n",
      " 0 0 0 0 0 0 0 0 0 0 0 0 0 0 0 0 0 0 0 0 0 0 0 0 0 0 0 0 0 0 0 0 0 0 0 0 0\n",
      " 0 0 0 0 0 0 0 0 0 0 0 0 0 0 0 0 0 0 0 0 0 0 0 0 0 0 0 0 0 0 0 0 0 0 0 0 0\n",
      " 0 0 0 0 0 0 0 0 0 0 0 0 0 0 0 0 0 0 0 0 0 0 0 0 0 0 0 0 0 0 0 0 0 0 0 0 0\n",
      " 0 0 0 0 0 0 0 0 0 0 0 0 0 0 0 0 0 0 0 0 0 0 0 0 0 0 0 0 0 0 0 0 0 0 0 0 0\n",
      " 0 0 0 0 0 0 0 0 0 0 0 0 0 0 0 0 0 0 0 0 0 0 0 0 0 0 0 0 0 0 0 0 0 0 0 0 0\n",
      " 0 0 0 0 0 0 0 0 0 0 0 0 0 0 0 0 0 0 0 0 0 0 0 0 0 0 0 0 0 0 0 0 0 0 0 0 0\n",
      " 0 0 0 0 0 0 0 0 0 0 0 0 0 0 0 0 0 0 0 0 0 0 0 0 0 0 0 0 0 0 0 0 0 0 0 0 0\n",
      " 0 0 0 0 0 0 0 0 0 0 0 0 0 0 0 0 0 0 0 0 0 0 0 0 0 0 0 0 0 0 0 0 0 0 0 0 0\n",
      " 0 0 0 0 0 0 0 0 0 0 0 0 0 0 0 0 0 0 0 0 0 0 0 0 0 0 0 0 0 0 0 0 0 0 0 0 0\n",
      " 0 0 0 0 0 0 0 0 0 0 0 0 0 0 0 0 0 0 0 0 0 0 0 0 0 0 0 0 0 0 0 0 0 0 0 0 0\n",
      " 0 0 0 0 0 0 0 0 0 0 0 0 0 0 0 0 0 0 0 0 0 0 0 0 0 0 0 0 0 0 0 0 0 0 0 0 0\n",
      " 0 0 0 0 0 0 0 0 0 0 0 0 0 0 0 0 0 0 0 0 0 0 0 0 0 0 0 0 0 0 0 0 0 0 0 0 0\n",
      " 0 0 0 0 0 0 0 0 0 0 0 0 0 0 0 0 0 0 0 0 0 0 0 0 0 0 0 0 0 0 0 0 0 0 0 0 0\n",
      " 0 0 0 0 0 0 0 0 0 0 0 0 0 0 0 0 0 0 0 0 0 0 0 0 0 0 0 0 0 0 0 0 0 0 0 0 0\n",
      " 0 0 0 0 0 0 0 0 0 0 0 0 0 0 0 0 0 0 0 0 0 0 0 0 0 0 0 0 0 0 0 0 0 0 0 0 0\n",
      " 0 0 0 0 0 0 0 0 1 1 2 2 2 2 2 2 2 2 2 2 2 2 2]\n"
     ]
    },
    {
     "name": "stderr",
     "output_type": "stream",
     "text": [
      "C:\\Users\\Owner\\AppData\\Local\\Temp\\ipykernel_11964\\2482121781.py:115: RuntimeWarning: covariance is not positive-semidefinite.\n",
      "  data_2 = np.random.multivariate_normal(mean, cov, size=size)\n"
     ]
    },
    {
     "data": {
      "image/png": "[encoded data removed]",
      "text/plain": [
       "<Figure size 432x288 with 1 Axes>"
      ]
     },
     "metadata": {
      "needs_background": "light"
     },
     "output_type": "display_data"
    }
   ],
   "source": [
    "ship_num=12\n",
    "stack_num=6\n",
    "height=6\n",
    "\n",
    "robust(ship_num,stack_num,height,n,3,1000)\n",
    "# AI.solve()"
   ]
  },
  {
   "cell_type": "code",
   "execution_count": 87,
   "metadata": {},
   "outputs": [
    {
     "data": {
      "image/png": "[encoded data removed]",
      "text/plain": [
       "<Figure size 432x288 with 1 Axes>"
      ]
     },
     "metadata": {
      "needs_background": "light"
     },
     "output_type": "display_data"
    }
   ],
   "source": [
    "import matplotlib.pyplot as plt\n",
    "data=(penalty,penalty_r)\n",
    "plt.boxplot(data)\n",
    "plt.show()"
   ]
  },
  {
   "cell_type": "code",
   "execution_count": 52,
   "metadata": {},
   "outputs": [
    {
     "name": "stdout",
     "output_type": "stream",
     "text": [
      "Gurobi Optimizer version 9.5.2 build v9.5.2rc0 (win64)\n",
      "Thread count: 8 physical cores, 16 logical processors, using up to 16 threads\n",
      "Optimize a model with 876 rows, 288 columns and 3114 nonzeros\n",
      "Model fingerprint: 0x77d3c335\n",
      "Variable types: 0 continuous, 288 integer (288 binary)\n",
      "Coefficient statistics:\n",
      "  Matrix range     [1e+00, 1e+00]\n",
      "  Objective range  [1e+00, 1e+00]\n",
      "  Bounds range     [1e+00, 1e+00]\n",
      "  RHS range        [1e+00, 6e+00]\n",
      "Found heuristic solution: objective 12.0000000\n",
      "Presolve removed 306 rows and 12 columns\n",
      "Presolve time: 0.01s\n",
      "Presolved: 570 rows, 276 columns, 3468 nonzeros\n",
      "Variable types: 0 continuous, 276 integer (276 binary)\n",
      "Found heuristic solution: objective 9.0000000\n",
      "\n",
      "Root relaxation: objective 0.000000e+00, 111 iterations, 0.00 seconds (0.00 work units)\n",
      "\n",
      "    Nodes    |    Current Node    |     Objective Bounds      |     Work\n",
      " Expl Unexpl |  Obj  Depth IntInf | Incumbent    BestBd   Gap | It/Node Time\n",
      "\n",
      "*    0     0               0       0.0000000    0.00000  0.00%     -    0s\n",
      "\n",
      "Explored 1 nodes (111 simplex iterations) in 0.03 seconds (0.02 work units)\n",
      "Thread count was 16 (of 16 available processors)\n",
      "\n",
      "Solution count 3: 0 9 12 \n",
      "\n",
      "Optimal solution found (tolerance 1.00e-04)\n",
      "Best objective 0.000000000000e+00, best bound 0.000000000000e+00, gap 0.0000%\n",
      "====================================================\n",
      "[[ 0  1  0  0  0  2]\n",
      " [ 0  1  0  0  0  2]\n",
      " [ 5  6  0  0  0  7]\n",
      " [10  6  3  0  4  7]\n",
      " [10 11  3  1  4 12]\n",
      " [10 11  8  8  9 12]]\n",
      "the objective function 0.0\n"
     ]
    },
    {
     "name": "stderr",
     "output_type": "stream",
     "text": [
      "C:\\Users\\Owner\\AppData\\Local\\Temp\\ipykernel_11964\\1889853015.py:115: RuntimeWarning: covariance is not positive-semidefinite.\n",
      "  data_2 = np.random.multivariate_normal(mean, cov, size=size)\n"
     ]
    },
    {
     "data": {
      "image/png": "[encoded data removed]",
      "text/plain": [
       "<Figure size 432x288 with 1 Axes>"
      ]
     },
     "metadata": {
      "needs_background": "light"
     },
     "output_type": "display_data"
    }
   ],
   "source": [
    "ship_num=12\n",
    "stack_num=6\n",
    "height=6\n",
    "\n",
    "robust(ship_num,stack_num,height,n,4,1000)\n",
    "# AI.solve()"
   ]
  },
  {
   "cell_type": "code",
   "execution_count": 53,
   "metadata": {},
   "outputs": [
    {
     "name": "stdout",
     "output_type": "stream",
     "text": [
      "Gurobi Optimizer version 9.5.2 build v9.5.2rc0 (win64)\n",
      "Thread count: 8 physical cores, 16 logical processors, using up to 16 threads\n",
      "Optimize a model with 1038 rows, 288 columns and 3600 nonzeros\n",
      "Model fingerprint: 0x6c711203\n",
      "Variable types: 0 continuous, 288 integer (288 binary)\n",
      "Coefficient statistics:\n",
      "  Matrix range     [1e+00, 1e+00]\n",
      "  Objective range  [1e+00, 1e+00]\n",
      "  Bounds range     [1e+00, 1e+00]\n",
      "  RHS range        [1e+00, 6e+00]\n",
      "Found heuristic solution: objective 13.0000000\n",
      "Presolve removed 390 rows and 12 columns\n",
      "Presolve time: 0.01s\n",
      "Presolved: 648 rows, 276 columns, 4362 nonzeros\n",
      "Variable types: 0 continuous, 276 integer (276 binary)\n",
      "Found heuristic solution: objective 7.0000000\n",
      "\n",
      "Root relaxation: objective 0.000000e+00, 206 iterations, 0.00 seconds (0.01 work units)\n",
      "\n",
      "    Nodes    |    Current Node    |     Objective Bounds      |     Work\n",
      " Expl Unexpl |  Obj  Depth IntInf | Incumbent    BestBd   Gap | It/Node Time\n",
      "\n",
      "*    0     0               0       0.0000000    0.00000  0.00%     -    0s\n",
      "\n",
      "Explored 1 nodes (206 simplex iterations) in 0.03 seconds (0.03 work units)\n",
      "Thread count was 16 (of 16 available processors)\n",
      "\n",
      "Solution count 3: 0 7 13 \n",
      "\n",
      "Optimal solution found (tolerance 1.00e-04)\n",
      "Best objective 0.000000000000e+00, best bound 0.000000000000e+00, gap 0.0000%\n",
      "====================================================\n",
      "[[ 0  0  0  0  0  0]\n",
      " [ 0  1  0  0  0  4]\n",
      " [ 0  1  2  0  6  4]\n",
      " [ 3  1  2  5  6 10]\n",
      " [ 3  7  8 11 12 10]\n",
      " [ 9  7  8 11 12 10]]\n",
      "the objective function 0.0\n"
     ]
    },
    {
     "name": "stderr",
     "output_type": "stream",
     "text": [
      "C:\\Users\\Owner\\AppData\\Local\\Temp\\ipykernel_11964\\1889853015.py:115: RuntimeWarning: covariance is not positive-semidefinite.\n",
      "  data_2 = np.random.multivariate_normal(mean, cov, size=size)\n"
     ]
    },
    {
     "data": {
      "image/png": "[encoded data removed]",
      "text/plain": [
       "<Figure size 432x288 with 1 Axes>"
      ]
     },
     "metadata": {
      "needs_background": "light"
     },
     "output_type": "display_data"
    }
   ],
   "source": [
    "ship_num=12\n",
    "stack_num=6\n",
    "height=6\n",
    "\n",
    "robust(ship_num,stack_num,height,n,5,1000)\n",
    "# AI.solve()"
   ]
  },
  {
   "cell_type": "markdown",
   "metadata": {},
   "source": [
    "## BRP"
   ]
  },
  {
   "cell_type": "code",
   "execution_count": 58,
   "metadata": {},
   "outputs": [],
   "source": [
    "# nと初期配置を変更しなければいけない\n",
    "ship_num=3\n",
    "stack_num=4\n",
    "height=4\n",
    "num=8\n",
    "\n",
    "O1=[i+1 for i in range(ship_num)]\n",
    "\n",
    "Q=[i+1 for i in range(stack_num)]\n",
    "L=[i+1 for i in range(height)]\n",
    "P=[i+1 for i in range(ship_num)]\n",
    "# I=[i+1 for i in range(num)]\n",
    "I=[1,2,3,4,5,6,7,8]\n",
    "f=stack_num*height-len(I)\n",
    "time = 3*len(I)\n",
    "T=[i+1 for i in range(time)]"
   ]
  },
  {
   "cell_type": "code",
   "execution_count": 59,
   "metadata": {},
   "outputs": [],
   "source": [
    "m=Model(\"BRP\")\n",
    "\n",
    "# 変数の定義\n",
    "b,v,x,y={},{},{},{}\n",
    "for i in Q:\n",
    "  for j in L:\n",
    "    for n in I:\n",
    "      for t in T:\n",
    "        b[i,j,n,t]=m.addVar(vtype=\"B\")\n",
    "        y[i,j,n,t]=m.addVar(vtype=\"B\")\n",
    "\n",
    "for n in I:\n",
    "  for t in T:\n",
    "    v[n,t]=m.addVar(vtype=\"B\")\n",
    "\n",
    "for i in Q:\n",
    "  for j in L:\n",
    "    for k in Q:\n",
    "      for l in L:\n",
    "        for n in I:\n",
    "          for t in T:\n",
    "            x[i,j,k,l,n,t]=m.addVar(vtype=\"B\")\n",
    "\n",
    "for n in I:\n",
    "  for t in T:\n",
    "    m.addConstr(quicksum(b[i,j,n,t] for i in Q for j in L)+v[n,t]==1)\n",
    "\n",
    "for i in Q:\n",
    "  for j in L:\n",
    "    for t in T:\n",
    "      m.addConstr(quicksum(b[i,j,n,t] for n in I)<=1)\n",
    "\n",
    "for i in Q:\n",
    "  for j in range(1,len(L)):\n",
    "    for t in T:\n",
    "      m.addConstr(quicksum(b[i,j,n,t] for n in I)>=quicksum(b[i,j+1,n,t] for n in I))\n",
    "\n",
    "for t in T:\n",
    "  m.addConstr(quicksum(x[i,j,k,l,n,t] for i in Q for j in L for k in Q for l in L for n in I)+quicksum(y[i,j,n,t] for i in Q for j in L for n in I)<=1)\n",
    "\n",
    "for n in range(1,len(I)):\n",
    "  m.addConstr(quicksum(v[n,t] for t in T)>=quicksum(v[n+1,t] for t in T)+1)\n",
    "\n",
    "for i in Q:\n",
    "  for j in L:\n",
    "    for n in I:\n",
    "      for t in range(2,len(T)+1):\n",
    "        m.addConstr(b[i,j,n,t]==b[i,j,n,t-1]+quicksum(x[k,l,i,j,n,t-1] for k in Q for l in L)-quicksum(x[i,j,k,l,n,t-1] for k in Q for l in L)-y[i,j,n,t-1])\n",
    "\n",
    "for n in I:\n",
    "  for t in T:\n",
    "    m.addConstr(v[n,t]==quicksum(y[i,j,n,t_] for i in Q for j in L for t_ in range(1,t)))\n",
    "\n",
    "m.setObjective(quicksum(v[len(I),t] for t in T),GRB.MAXIMIZE)"
   ]
  },
  {
   "cell_type": "code",
   "execution_count": 60,
   "metadata": {},
   "outputs": [
    {
     "data": {
      "text/plain": [
       "<gurobi.Constr *Awaiting Model Update*>"
      ]
     },
     "execution_count": 60,
     "metadata": {},
     "output_type": "execute_result"
    }
   ],
   "source": [
    "m.addConstr(b[1,1,8,1]==1)\n",
    "m.addConstr(b[1,2,7,1]==1)\n",
    "m.addConstr(b[1,3,6,1]==1)\n",
    "m.addConstr(b[2,1,2,1]==1)\n",
    "m.addConstr(b[3,1,1,1]==1)\n",
    "m.addConstr(b[3,2,3,1]==1)\n",
    "m.addConstr(b[3,3,4,1]==1)\n",
    "m.addConstr(b[3,4,5,1]==1)"
   ]
  },
  {
   "cell_type": "code",
   "execution_count": 61,
   "metadata": {},
   "outputs": [
    {
     "name": "stdout",
     "output_type": "stream",
     "text": [
      "Gurobi Optimizer version 9.5.2 build v9.5.2rc0 (win64)\n",
      "Thread count: 8 physical cores, 16 logical processors, using up to 16 threads\n",
      "Optimize a model with 4039 rows, 55488 columns and 196184 nonzeros\n",
      "Model fingerprint: 0x043e4b75\n",
      "Variable types: 0 continuous, 55488 integer (55488 binary)\n",
      "Coefficient statistics:\n",
      "  Matrix range     [1e+00, 1e+00]\n",
      "  Objective range  [1e+00, 1e+00]\n",
      "  Bounds range     [1e+00, 1e+00]\n",
      "  RHS range        [1e+00, 1e+00]\n",
      "Presolve removed 210 rows and 8938 columns (presolve time = 6s) ...\n",
      "Presolve removed 268 rows and 10257 columns (presolve time = 10s) ...\n",
      "Presolve removed 293 rows and 11370 columns\n",
      "Presolve time: 10.59s\n",
      "Presolved: 3746 rows, 44118 columns, 139682 nonzeros\n",
      "Variable types: 0 continuous, 44118 integer (44118 binary)\n",
      "\n",
      "Root simplex log...\n",
      "\n",
      "Iteration    Objective       Primal Inf.    Dual Inf.      Time\n",
      "       0    2.2000000e+01   1.690000e+02   0.000000e+00     11s\n",
      "    3134    1.4455150e+01   0.000000e+00   0.000000e+00     12s\n",
      "\n",
      "Root relaxation: objective 1.445515e+01, 3134 iterations, 1.04 seconds (0.34 work units)\n",
      "\n",
      "    Nodes    |    Current Node    |     Objective Bounds      |     Work\n",
      " Expl Unexpl |  Obj  Depth IntInf | Incumbent    BestBd   Gap | It/Node Time\n",
      "\n",
      "     0     0   13.00000    0  164          -   13.00000      -     -   22s\n",
      "     0     0   13.00000    0   96          -   13.00000      -     -   29s\n",
      "H    0     0                      -0.0000000   13.00000      -     -   61s\n",
      "H    0     0                      13.0000000   13.00000  0.00%     -   61s\n",
      "     0     0   13.00000    0   13   13.00000   13.00000  0.00%     -   61s\n",
      "\n",
      "Explored 1 nodes (26671 simplex iterations) in 61.56 seconds (10.67 work units)\n",
      "Thread count was 16 (of 16 available processors)\n",
      "\n",
      "Solution count 2: 13 -0 \n",
      "\n",
      "Optimal solution found (tolerance 1.00e-04)\n",
      "Best objective 1.300000000000e+01, best bound 1.300000000000e+01, gap 0.0000%\n"
     ]
    }
   ],
   "source": [
    "m.optimize()"
   ]
  },
  {
   "cell_type": "code",
   "execution_count": 62,
   "metadata": {},
   "outputs": [
    {
     "name": "stdout",
     "output_type": "stream",
     "text": [
      "the objective function 11.0\n"
     ]
    }
   ],
   "source": [
    "print(\"the objective function\", len(T)-m.objVal)\n",
    "#   print(\"VaR=\",alpha.X)"
   ]
  },
  {
   "cell_type": "code",
   "execution_count": 63,
   "metadata": {},
   "outputs": [
    {
     "name": "stdout",
     "output_type": "stream",
     "text": [
      "v[ 1, 5]=1.0\n",
      "v[ 2, 6]=1.0\n",
      "v[ 3, 7]=1.0\n",
      "v[ 4, 8]=1.0\n",
      "v[ 5, 9]=1.0\n",
      "v[ 6,10]=1.0\n",
      "v[ 7,11]=1.0\n",
      "v[ 8,12]=1.0\n"
     ]
    }
   ],
   "source": [
    "EPS=1.e-5\n",
    "for (n,t) in v:\n",
    "  if t!=1:\n",
    "    if (v[n,t].X-v[n,t-1].X)>EPS:\n",
    "      print(\"v[%2s,%2s]=%3s\" %(n,t,v[n,t].X))"
   ]
  },
  {
   "cell_type": "code",
   "execution_count": null,
   "metadata": {},
   "outputs": [],
   "source": []
  }
 ],
 "metadata": {
  "kernelspec": {
   "display_name": "Python 3.9.12 ('base')",
   "language": "python",
   "name": "python3"
  },
  "language_info": {
   "codemirror_mode": {
    "name": "ipython",
    "version": 3
   },
   "file_extension": ".py",
   "mimetype": "text/x-python",
   "name": "python",
   "nbconvert_exporter": "python",
   "pygments_lexer": "ipython3",
   "version": "3.9.12"
  },
  "orig_nbformat": 4,
  "vscode": {
   "interpreter": {
    "hash": "585a938ec471c889bf0cce0aed741a99eaf47ca09c0fa8393793bc5bfe77ba11"
   }
  }
 },
 "nbformat": 4,
 "nbformat_minor": 2
}
